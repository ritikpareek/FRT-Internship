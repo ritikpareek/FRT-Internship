{
 "cells": [
  {
   "cell_type": "code",
   "execution_count": 1,
   "metadata": {},
   "outputs": [
    {
     "name": "stdout",
     "output_type": "stream",
     "text": [
      "Collecting selenium\n",
      "  Downloading selenium-3.141.0-py2.py3-none-any.whl (904 kB)\n",
      "Requirement already satisfied: urllib3 in c:\\programdata\\anaconda3\\lib\\site-packages (from selenium) (1.25.8)\n",
      "Installing collected packages: selenium\n",
      "Successfully installed selenium-3.141.0\n"
     ]
    }
   ],
   "source": [
    "!pip install selenium"
   ]
  },
  {
   "cell_type": "code",
   "execution_count": 5,
   "metadata": {},
   "outputs": [],
   "source": [
    "import pandas as pd\n",
    "import numpy as np\n",
    "import selenium\n",
    "from selenium import webdriver"
   ]
  },
  {
   "cell_type": "code",
   "execution_count": 19,
   "metadata": {},
   "outputs": [],
   "source": [
    "driver=webdriver.Chrome(r\"C:\\Users\\Atirek\\Internship FRT\\chromedriver.exe\")"
   ]
  },
  {
   "cell_type": "markdown",
   "metadata": {},
   "source": [
    "# 1 Question Solution"
   ]
  },
  {
   "cell_type": "code",
   "execution_count": 20,
   "metadata": {},
   "outputs": [],
   "source": [
    "url=\"https://www.naukri.com/\""
   ]
  },
  {
   "cell_type": "code",
   "execution_count": 21,
   "metadata": {},
   "outputs": [],
   "source": [
    "driver.get(url)"
   ]
  },
  {
   "cell_type": "code",
   "execution_count": 23,
   "metadata": {},
   "outputs": [],
   "source": [
    "#searching the job\n",
    "driver.find_element_by_xpath(\"//input[@class='sugInp']\").send_keys('Data Analyst')"
   ]
  },
  {
   "cell_type": "code",
   "execution_count": 25,
   "metadata": {},
   "outputs": [],
   "source": [
    "driver.find_element_by_xpath(\"//input[@id='qsb-location-sugg']\").send_keys('Banglore')"
   ]
  },
  {
   "cell_type": "code",
   "execution_count": 26,
   "metadata": {},
   "outputs": [],
   "source": [
    "#searching the data\n",
    "driver.find_element_by_xpath(\"//button[@class='btn']\").click()"
   ]
  },
  {
   "cell_type": "code",
   "execution_count": 78,
   "metadata": {},
   "outputs": [],
   "source": [
    "job_titile=[]\n",
    "company_name=[]\n",
    "location=[]\n",
    "exp_req=[]"
   ]
  },
  {
   "cell_type": "code",
   "execution_count": 79,
   "metadata": {},
   "outputs": [],
   "source": [
    "title=driver.find_elements_by_xpath(\"//a[@class='title fw500 ellipsis']\")[0:11]"
   ]
  },
  {
   "cell_type": "code",
   "execution_count": 80,
   "metadata": {},
   "outputs": [
    {
     "data": {
      "text/plain": [
       "[<selenium.webdriver.remote.webelement.WebElement (session=\"e14b6c69e6ca7d7931e1749c401fa5af\", element=\"0d561eb0-0d56-4a78-8cfb-1144c3f9e4cd\")>,\n",
       " <selenium.webdriver.remote.webelement.WebElement (session=\"e14b6c69e6ca7d7931e1749c401fa5af\", element=\"9bd9a533-0e6d-4c86-8aa9-ab0d0a0afb8c\")>,\n",
       " <selenium.webdriver.remote.webelement.WebElement (session=\"e14b6c69e6ca7d7931e1749c401fa5af\", element=\"0d11ef0a-d45b-49e3-87f2-f97b9195c5e2\")>,\n",
       " <selenium.webdriver.remote.webelement.WebElement (session=\"e14b6c69e6ca7d7931e1749c401fa5af\", element=\"282cb494-cc97-49a7-bb03-7e2da23c2457\")>,\n",
       " <selenium.webdriver.remote.webelement.WebElement (session=\"e14b6c69e6ca7d7931e1749c401fa5af\", element=\"61403b21-616e-47cc-b270-109ea88f7680\")>,\n",
       " <selenium.webdriver.remote.webelement.WebElement (session=\"e14b6c69e6ca7d7931e1749c401fa5af\", element=\"ffd81c5b-669b-4644-8389-0443e93ccbff\")>,\n",
       " <selenium.webdriver.remote.webelement.WebElement (session=\"e14b6c69e6ca7d7931e1749c401fa5af\", element=\"a9e357fa-3516-4f97-a913-27777667d611\")>,\n",
       " <selenium.webdriver.remote.webelement.WebElement (session=\"e14b6c69e6ca7d7931e1749c401fa5af\", element=\"b56b499b-4315-4e2d-9eb8-45ca1936b75c\")>,\n",
       " <selenium.webdriver.remote.webelement.WebElement (session=\"e14b6c69e6ca7d7931e1749c401fa5af\", element=\"59b15f04-27e1-4820-b27c-1c3393c72b02\")>,\n",
       " <selenium.webdriver.remote.webelement.WebElement (session=\"e14b6c69e6ca7d7931e1749c401fa5af\", element=\"c025587c-a7ff-43ae-ae29-cdd9b294ea76\")>,\n",
       " <selenium.webdriver.remote.webelement.WebElement (session=\"e14b6c69e6ca7d7931e1749c401fa5af\", element=\"0f89a4c7-a71b-4ebb-ab8e-4c7429afcd0b\")>]"
      ]
     },
     "execution_count": 80,
     "metadata": {},
     "output_type": "execute_result"
    }
   ],
   "source": [
    "title"
   ]
  },
  {
   "cell_type": "code",
   "execution_count": 81,
   "metadata": {},
   "outputs": [],
   "source": [
    "for i in title:\n",
    "    Title=i.text\n",
    "    job_titile.append(Title)"
   ]
  },
  {
   "cell_type": "code",
   "execution_count": 82,
   "metadata": {},
   "outputs": [
    {
     "data": {
      "text/plain": [
       "['Fresher Data Engineer / Data Scientist / Data Analyst Requirements',\n",
       " 'Immediate opening For Data Scientist/Data Analyst',\n",
       " 'Business Data Analyst',\n",
       " 'SAS AML Data Analyst / Trainee & Data Science, Python Trainee',\n",
       " 'Hiring Data Analysts',\n",
       " 'Hiring Data Analysts',\n",
       " 'Data Analyst',\n",
       " 'Study Data Analyst',\n",
       " 'Data Analyst',\n",
       " 'Business Data Analyst | Reinsurance Domain',\n",
       " 'Business Data Analyst']"
      ]
     },
     "execution_count": 82,
     "metadata": {},
     "output_type": "execute_result"
    }
   ],
   "source": [
    "job_titile"
   ]
  },
  {
   "cell_type": "code",
   "execution_count": 83,
   "metadata": {},
   "outputs": [],
   "source": [
    "cname=driver.find_elements_by_xpath(\"//a[@class='subTitle ellipsis fleft']\")[0:11]"
   ]
  },
  {
   "cell_type": "code",
   "execution_count": 84,
   "metadata": {},
   "outputs": [
    {
     "data": {
      "text/plain": [
       "[<selenium.webdriver.remote.webelement.WebElement (session=\"e14b6c69e6ca7d7931e1749c401fa5af\", element=\"fd7741d3-9ff3-40a3-a72a-8b601953e10f\")>,\n",
       " <selenium.webdriver.remote.webelement.WebElement (session=\"e14b6c69e6ca7d7931e1749c401fa5af\", element=\"3fa5b4b1-efeb-436a-a910-e366043697b0\")>,\n",
       " <selenium.webdriver.remote.webelement.WebElement (session=\"e14b6c69e6ca7d7931e1749c401fa5af\", element=\"cc78eaa8-ed44-4779-b320-dbf628cb3e37\")>,\n",
       " <selenium.webdriver.remote.webelement.WebElement (session=\"e14b6c69e6ca7d7931e1749c401fa5af\", element=\"1b9fb575-35d3-472e-bcfe-062f654466b2\")>,\n",
       " <selenium.webdriver.remote.webelement.WebElement (session=\"e14b6c69e6ca7d7931e1749c401fa5af\", element=\"55fbfc72-a2d4-4d80-bbd5-2fd95446e7e6\")>,\n",
       " <selenium.webdriver.remote.webelement.WebElement (session=\"e14b6c69e6ca7d7931e1749c401fa5af\", element=\"a03ef0ff-f6ea-42cb-8eac-4b9b68ca7a31\")>,\n",
       " <selenium.webdriver.remote.webelement.WebElement (session=\"e14b6c69e6ca7d7931e1749c401fa5af\", element=\"94f1fd9e-57a4-4391-b431-5ed759dc1455\")>,\n",
       " <selenium.webdriver.remote.webelement.WebElement (session=\"e14b6c69e6ca7d7931e1749c401fa5af\", element=\"fb5e7363-045e-4234-917f-bd50f342218d\")>,\n",
       " <selenium.webdriver.remote.webelement.WebElement (session=\"e14b6c69e6ca7d7931e1749c401fa5af\", element=\"5294ea8d-9652-44cc-b572-35ede51a8bc5\")>,\n",
       " <selenium.webdriver.remote.webelement.WebElement (session=\"e14b6c69e6ca7d7931e1749c401fa5af\", element=\"20fc1a41-9f4a-48ec-b2ee-3f6d8a1b21a8\")>,\n",
       " <selenium.webdriver.remote.webelement.WebElement (session=\"e14b6c69e6ca7d7931e1749c401fa5af\", element=\"c13e337c-dc4a-4bdd-be56-0a1126f2d5d2\")>]"
      ]
     },
     "execution_count": 84,
     "metadata": {},
     "output_type": "execute_result"
    }
   ],
   "source": [
    "cname"
   ]
  },
  {
   "cell_type": "code",
   "execution_count": 85,
   "metadata": {},
   "outputs": [],
   "source": [
    "for i in cname:\n",
    "    Cname=i.text\n",
    "    company_name.append(Cname)"
   ]
  },
  {
   "cell_type": "code",
   "execution_count": 86,
   "metadata": {},
   "outputs": [
    {
     "data": {
      "text/plain": [
       "['ACHYUTAS SOFT PRIVATE LIMITED',\n",
       " 'CAIA-Center For Artificial Intelligence & Advanced Analytics',\n",
       " 'NetApp',\n",
       " 'MagicBase Royal BD Pvt Ltd',\n",
       " 'Flipkart Internet Private Limited',\n",
       " 'Flipkart Internet Private Limited',\n",
       " 'GlaxoSmithKline Pharmaceuticals Limited',\n",
       " 'GlaxoSmithKline Pharmaceuticals Limited',\n",
       " 'Cognizant Technology Solutions India Ltd',\n",
       " 'Mphasis Limited',\n",
       " 'GENPACT India Private Limited']"
      ]
     },
     "execution_count": 86,
     "metadata": {},
     "output_type": "execute_result"
    }
   ],
   "source": [
    "company_name"
   ]
  },
  {
   "cell_type": "code",
   "execution_count": 87,
   "metadata": {},
   "outputs": [],
   "source": [
    "lct=driver.find_elements_by_xpath(\"//li[@class='fleft grey-text br2 placeHolderLi location']/span\")[0:11]"
   ]
  },
  {
   "cell_type": "code",
   "execution_count": 88,
   "metadata": {},
   "outputs": [
    {
     "data": {
      "text/plain": [
       "[<selenium.webdriver.remote.webelement.WebElement (session=\"e14b6c69e6ca7d7931e1749c401fa5af\", element=\"8f3cadbb-4abd-4c2c-9808-fd6f229eb10c\")>,\n",
       " <selenium.webdriver.remote.webelement.WebElement (session=\"e14b6c69e6ca7d7931e1749c401fa5af\", element=\"857a353f-48f5-4f5a-8f5b-969aab484182\")>,\n",
       " <selenium.webdriver.remote.webelement.WebElement (session=\"e14b6c69e6ca7d7931e1749c401fa5af\", element=\"d2ec84d2-0296-4972-adc5-d00537d5c482\")>,\n",
       " <selenium.webdriver.remote.webelement.WebElement (session=\"e14b6c69e6ca7d7931e1749c401fa5af\", element=\"82e85f16-bfba-4f2c-9652-d3a7eb8d7e59\")>,\n",
       " <selenium.webdriver.remote.webelement.WebElement (session=\"e14b6c69e6ca7d7931e1749c401fa5af\", element=\"56dce50a-fdf7-4adb-b5e6-6278d8db3bf4\")>,\n",
       " <selenium.webdriver.remote.webelement.WebElement (session=\"e14b6c69e6ca7d7931e1749c401fa5af\", element=\"7a59288a-d307-4e74-89d4-b91ac40619e9\")>,\n",
       " <selenium.webdriver.remote.webelement.WebElement (session=\"e14b6c69e6ca7d7931e1749c401fa5af\", element=\"a250e88c-10c5-42db-b7f8-3e133f09f21e\")>,\n",
       " <selenium.webdriver.remote.webelement.WebElement (session=\"e14b6c69e6ca7d7931e1749c401fa5af\", element=\"de96082d-e84f-43a2-b826-860225808048\")>,\n",
       " <selenium.webdriver.remote.webelement.WebElement (session=\"e14b6c69e6ca7d7931e1749c401fa5af\", element=\"b2dc98ec-a114-4176-b1ef-f5c102cef760\")>,\n",
       " <selenium.webdriver.remote.webelement.WebElement (session=\"e14b6c69e6ca7d7931e1749c401fa5af\", element=\"e1d240b3-a8a0-4ba1-bec5-2679d56fb962\")>,\n",
       " <selenium.webdriver.remote.webelement.WebElement (session=\"e14b6c69e6ca7d7931e1749c401fa5af\", element=\"4aaffcf1-0d63-4658-8d96-a223cef431c8\")>]"
      ]
     },
     "execution_count": 88,
     "metadata": {},
     "output_type": "execute_result"
    }
   ],
   "source": [
    "lct"
   ]
  },
  {
   "cell_type": "code",
   "execution_count": 89,
   "metadata": {},
   "outputs": [],
   "source": [
    "for i in lct:\n",
    "    Lct=i.text\n",
    "    location.append(Lct)"
   ]
  },
  {
   "cell_type": "code",
   "execution_count": 90,
   "metadata": {},
   "outputs": [
    {
     "data": {
      "text/plain": [
       "['Delhi NCR, Bengaluru, Hyderabad',\n",
       " 'Chennai, Pune, Bengaluru, Hyderabad',\n",
       " 'Bengaluru',\n",
       " 'Bengaluru(Whitefield)',\n",
       " 'Bengaluru',\n",
       " 'Bengaluru',\n",
       " 'Bengaluru, India',\n",
       " 'Bengaluru',\n",
       " 'Bengaluru',\n",
       " 'Bengaluru',\n",
       " 'Bengaluru']"
      ]
     },
     "execution_count": 90,
     "metadata": {},
     "output_type": "execute_result"
    }
   ],
   "source": [
    "location"
   ]
  },
  {
   "cell_type": "code",
   "execution_count": 91,
   "metadata": {},
   "outputs": [],
   "source": [
    "exp=driver.find_elements_by_xpath(\"//li[@class='fleft grey-text br2 placeHolderLi experience']/span\")[0:11]"
   ]
  },
  {
   "cell_type": "code",
   "execution_count": 92,
   "metadata": {},
   "outputs": [
    {
     "data": {
      "text/plain": [
       "[<selenium.webdriver.remote.webelement.WebElement (session=\"e14b6c69e6ca7d7931e1749c401fa5af\", element=\"59a38c2c-5ed3-4fb6-9c34-395dbb2b3537\")>,\n",
       " <selenium.webdriver.remote.webelement.WebElement (session=\"e14b6c69e6ca7d7931e1749c401fa5af\", element=\"755e925e-2bd3-432b-9c5d-cb9045abaa08\")>,\n",
       " <selenium.webdriver.remote.webelement.WebElement (session=\"e14b6c69e6ca7d7931e1749c401fa5af\", element=\"07b5ac04-d593-4fe2-a028-4242556a10e8\")>,\n",
       " <selenium.webdriver.remote.webelement.WebElement (session=\"e14b6c69e6ca7d7931e1749c401fa5af\", element=\"10b49f3b-9d5e-4d4a-a025-30962e6637b6\")>,\n",
       " <selenium.webdriver.remote.webelement.WebElement (session=\"e14b6c69e6ca7d7931e1749c401fa5af\", element=\"bf18366f-8a40-41ee-937d-8b1622a174ca\")>,\n",
       " <selenium.webdriver.remote.webelement.WebElement (session=\"e14b6c69e6ca7d7931e1749c401fa5af\", element=\"bcab7469-c4f7-4229-93fa-cc5051d4d055\")>,\n",
       " <selenium.webdriver.remote.webelement.WebElement (session=\"e14b6c69e6ca7d7931e1749c401fa5af\", element=\"69c88891-c3d0-4278-b46a-437bcc717b5a\")>,\n",
       " <selenium.webdriver.remote.webelement.WebElement (session=\"e14b6c69e6ca7d7931e1749c401fa5af\", element=\"e66fa917-2c89-4a4d-a7d5-70b69e4bc1fa\")>,\n",
       " <selenium.webdriver.remote.webelement.WebElement (session=\"e14b6c69e6ca7d7931e1749c401fa5af\", element=\"c8d64525-9da0-4c2c-bc95-9c18785646ee\")>,\n",
       " <selenium.webdriver.remote.webelement.WebElement (session=\"e14b6c69e6ca7d7931e1749c401fa5af\", element=\"be97b23f-bc24-4102-ac1a-832f054d2d15\")>,\n",
       " <selenium.webdriver.remote.webelement.WebElement (session=\"e14b6c69e6ca7d7931e1749c401fa5af\", element=\"eeda8f7b-2e50-4dd5-9f24-47914662d6d3\")>]"
      ]
     },
     "execution_count": 92,
     "metadata": {},
     "output_type": "execute_result"
    }
   ],
   "source": [
    "exp"
   ]
  },
  {
   "cell_type": "code",
   "execution_count": 93,
   "metadata": {},
   "outputs": [],
   "source": [
    "for i in exp:\n",
    "    Exp=i.text\n",
    "    exp_req.append(Exp)"
   ]
  },
  {
   "cell_type": "code",
   "execution_count": 94,
   "metadata": {},
   "outputs": [
    {
     "data": {
      "text/plain": [
       "['0-2 Yrs',\n",
       " '0-3 Yrs',\n",
       " '2-3 Yrs',\n",
       " '0-5 Yrs',\n",
       " '2-5 Yrs',\n",
       " '2-5 Yrs',\n",
       " '3-5 Yrs',\n",
       " '4-8 Yrs',\n",
       " '3-4 Yrs',\n",
       " '10-15 Yrs',\n",
       " '3-6 Yrs']"
      ]
     },
     "execution_count": 94,
     "metadata": {},
     "output_type": "execute_result"
    }
   ],
   "source": [
    "exp_req"
   ]
  },
  {
   "cell_type": "code",
   "execution_count": 96,
   "metadata": {},
   "outputs": [],
   "source": [
    "naukri_df=pd.DataFrame({'jobName':job_titile,'CName':company_name,'location':location,'experience':exp_req})"
   ]
  },
  {
   "cell_type": "code",
   "execution_count": 97,
   "metadata": {},
   "outputs": [
    {
     "data": {
      "text/html": [
       "<div>\n",
       "<style scoped>\n",
       "    .dataframe tbody tr th:only-of-type {\n",
       "        vertical-align: middle;\n",
       "    }\n",
       "\n",
       "    .dataframe tbody tr th {\n",
       "        vertical-align: top;\n",
       "    }\n",
       "\n",
       "    .dataframe thead th {\n",
       "        text-align: right;\n",
       "    }\n",
       "</style>\n",
       "<table border=\"1\" class=\"dataframe\">\n",
       "  <thead>\n",
       "    <tr style=\"text-align: right;\">\n",
       "      <th></th>\n",
       "      <th>jobName</th>\n",
       "      <th>CName</th>\n",
       "      <th>location</th>\n",
       "      <th>experience</th>\n",
       "    </tr>\n",
       "  </thead>\n",
       "  <tbody>\n",
       "    <tr>\n",
       "      <th>0</th>\n",
       "      <td>Fresher Data Engineer / Data Scientist / Data ...</td>\n",
       "      <td>ACHYUTAS SOFT PRIVATE LIMITED</td>\n",
       "      <td>Delhi NCR, Bengaluru, Hyderabad</td>\n",
       "      <td>0-2 Yrs</td>\n",
       "    </tr>\n",
       "    <tr>\n",
       "      <th>1</th>\n",
       "      <td>Immediate opening For Data Scientist/Data Analyst</td>\n",
       "      <td>CAIA-Center For Artificial Intelligence &amp; Adva...</td>\n",
       "      <td>Chennai, Pune, Bengaluru, Hyderabad</td>\n",
       "      <td>0-3 Yrs</td>\n",
       "    </tr>\n",
       "    <tr>\n",
       "      <th>2</th>\n",
       "      <td>Business Data Analyst</td>\n",
       "      <td>NetApp</td>\n",
       "      <td>Bengaluru</td>\n",
       "      <td>2-3 Yrs</td>\n",
       "    </tr>\n",
       "    <tr>\n",
       "      <th>3</th>\n",
       "      <td>SAS AML Data Analyst / Trainee &amp; Data Science,...</td>\n",
       "      <td>MagicBase Royal BD Pvt Ltd</td>\n",
       "      <td>Bengaluru(Whitefield)</td>\n",
       "      <td>0-5 Yrs</td>\n",
       "    </tr>\n",
       "    <tr>\n",
       "      <th>4</th>\n",
       "      <td>Hiring Data Analysts</td>\n",
       "      <td>Flipkart Internet Private Limited</td>\n",
       "      <td>Bengaluru</td>\n",
       "      <td>2-5 Yrs</td>\n",
       "    </tr>\n",
       "    <tr>\n",
       "      <th>5</th>\n",
       "      <td>Hiring Data Analysts</td>\n",
       "      <td>Flipkart Internet Private Limited</td>\n",
       "      <td>Bengaluru</td>\n",
       "      <td>2-5 Yrs</td>\n",
       "    </tr>\n",
       "    <tr>\n",
       "      <th>6</th>\n",
       "      <td>Data Analyst</td>\n",
       "      <td>GlaxoSmithKline Pharmaceuticals Limited</td>\n",
       "      <td>Bengaluru, India</td>\n",
       "      <td>3-5 Yrs</td>\n",
       "    </tr>\n",
       "    <tr>\n",
       "      <th>7</th>\n",
       "      <td>Study Data Analyst</td>\n",
       "      <td>GlaxoSmithKline Pharmaceuticals Limited</td>\n",
       "      <td>Bengaluru</td>\n",
       "      <td>4-8 Yrs</td>\n",
       "    </tr>\n",
       "    <tr>\n",
       "      <th>8</th>\n",
       "      <td>Data Analyst</td>\n",
       "      <td>Cognizant Technology Solutions India Ltd</td>\n",
       "      <td>Bengaluru</td>\n",
       "      <td>3-4 Yrs</td>\n",
       "    </tr>\n",
       "    <tr>\n",
       "      <th>9</th>\n",
       "      <td>Business Data Analyst | Reinsurance Domain</td>\n",
       "      <td>Mphasis Limited</td>\n",
       "      <td>Bengaluru</td>\n",
       "      <td>10-15 Yrs</td>\n",
       "    </tr>\n",
       "    <tr>\n",
       "      <th>10</th>\n",
       "      <td>Business Data Analyst</td>\n",
       "      <td>GENPACT India Private Limited</td>\n",
       "      <td>Bengaluru</td>\n",
       "      <td>3-6 Yrs</td>\n",
       "    </tr>\n",
       "  </tbody>\n",
       "</table>\n",
       "</div>"
      ],
      "text/plain": [
       "                                              jobName  \\\n",
       "0   Fresher Data Engineer / Data Scientist / Data ...   \n",
       "1   Immediate opening For Data Scientist/Data Analyst   \n",
       "2                               Business Data Analyst   \n",
       "3   SAS AML Data Analyst / Trainee & Data Science,...   \n",
       "4                                Hiring Data Analysts   \n",
       "5                                Hiring Data Analysts   \n",
       "6                                        Data Analyst   \n",
       "7                                  Study Data Analyst   \n",
       "8                                        Data Analyst   \n",
       "9          Business Data Analyst | Reinsurance Domain   \n",
       "10                              Business Data Analyst   \n",
       "\n",
       "                                                CName  \\\n",
       "0                       ACHYUTAS SOFT PRIVATE LIMITED   \n",
       "1   CAIA-Center For Artificial Intelligence & Adva...   \n",
       "2                                              NetApp   \n",
       "3                          MagicBase Royal BD Pvt Ltd   \n",
       "4                   Flipkart Internet Private Limited   \n",
       "5                   Flipkart Internet Private Limited   \n",
       "6             GlaxoSmithKline Pharmaceuticals Limited   \n",
       "7             GlaxoSmithKline Pharmaceuticals Limited   \n",
       "8            Cognizant Technology Solutions India Ltd   \n",
       "9                                     Mphasis Limited   \n",
       "10                      GENPACT India Private Limited   \n",
       "\n",
       "                               location experience  \n",
       "0       Delhi NCR, Bengaluru, Hyderabad    0-2 Yrs  \n",
       "1   Chennai, Pune, Bengaluru, Hyderabad    0-3 Yrs  \n",
       "2                             Bengaluru    2-3 Yrs  \n",
       "3                 Bengaluru(Whitefield)    0-5 Yrs  \n",
       "4                             Bengaluru    2-5 Yrs  \n",
       "5                             Bengaluru    2-5 Yrs  \n",
       "6                      Bengaluru, India    3-5 Yrs  \n",
       "7                             Bengaluru    4-8 Yrs  \n",
       "8                             Bengaluru    3-4 Yrs  \n",
       "9                             Bengaluru  10-15 Yrs  \n",
       "10                            Bengaluru    3-6 Yrs  "
      ]
     },
     "execution_count": 97,
     "metadata": {},
     "output_type": "execute_result"
    }
   ],
   "source": [
    "naukri_df"
   ]
  },
  {
   "cell_type": "markdown",
   "metadata": {},
   "source": [
    "# 2 Question Solution"
   ]
  },
  {
   "cell_type": "code",
   "execution_count": 98,
   "metadata": {},
   "outputs": [],
   "source": [
    "url='https://www.naukri.com/'"
   ]
  },
  {
   "cell_type": "code",
   "execution_count": 99,
   "metadata": {},
   "outputs": [],
   "source": [
    "driver.get(url)"
   ]
  },
  {
   "cell_type": "code",
   "execution_count": 100,
   "metadata": {},
   "outputs": [],
   "source": [
    "#searching the job\n",
    "driver.find_element_by_xpath(\"//input[@class='sugInp']\").send_keys('Data Scientist')"
   ]
  },
  {
   "cell_type": "code",
   "execution_count": 101,
   "metadata": {},
   "outputs": [],
   "source": [
    "driver.find_element_by_xpath(\"//input[@id='qsb-location-sugg']\").send_keys('Banglore')"
   ]
  },
  {
   "cell_type": "code",
   "execution_count": 102,
   "metadata": {},
   "outputs": [],
   "source": [
    "#searching the data\n",
    "driver.find_element_by_xpath(\"//button[@class='btn']\").click()"
   ]
  },
  {
   "cell_type": "code",
   "execution_count": 125,
   "metadata": {},
   "outputs": [],
   "source": [
    "job_title=[]\n",
    "location=[]\n",
    "company_name=[]\n",
    "des=[]"
   ]
  },
  {
   "cell_type": "code",
   "execution_count": 126,
   "metadata": {},
   "outputs": [
    {
     "name": "stdout",
     "output_type": "stream",
     "text": [
      "['Fresher Data Engineer / Data Scientist / Data Analyst Requirements', 'Immediate opening For Data Scientist/Data Analyst', 'Data Scientist - Machine Learning', 'Senior Data Scientist - NLP/ Python/ R', 'Senior Data Scientist | CES IT LTD | CMMI Level 5', 'Senior Data Scientist | CES IT LTD | CMMI Level 5', 'Data Scientist - Machine Learning/Data Mining', 'Artificial Intelligence Analyst/Data Scientist', 'Data Scientist', 'Global Medical Data Scientist']\n"
     ]
    }
   ],
   "source": [
    "title=driver.find_elements_by_xpath(\"//a[@class='title fw500 ellipsis']\")[0:10]\n",
    "for i in title:\n",
    "    Title=i.text\n",
    "    job_title.append(Title)\n",
    "print(job_title)"
   ]
  },
  {
   "cell_type": "code",
   "execution_count": 127,
   "metadata": {},
   "outputs": [
    {
     "name": "stdout",
     "output_type": "stream",
     "text": [
      "['Delhi NCR, Bengaluru, Hyderabad', 'Chennai, Pune, Bengaluru, Hyderabad', 'Bengaluru', 'Bengaluru, Hyderabad', 'Chennai, Pune, Delhi NCR, Mumbai, Bengaluru, Hyderabad, Kolkata', 'Chennai, Pune, Delhi NCR, Mumbai, Bengaluru, Hyderabad, Kolkata', 'Bengaluru', 'Mumbai, Bengaluru', 'Chennai, Pune, Mumbai, Bengaluru, Hyderabad, Kolkata', 'Bengaluru, India']\n"
     ]
    }
   ],
   "source": [
    "lct=driver.find_elements_by_xpath(\"//li[@class='fleft grey-text br2 placeHolderLi location']/span\")[0:10]\n",
    "for i in lct:\n",
    "    Lct=i.text\n",
    "    location.append(Lct)\n",
    "    \n",
    "print(location)"
   ]
  },
  {
   "cell_type": "code",
   "execution_count": 128,
   "metadata": {},
   "outputs": [
    {
     "name": "stdout",
     "output_type": "stream",
     "text": [
      "['ACHYUTAS SOFT PRIVATE LIMITED', 'CAIA-Center For Artificial Intelligence & Advanced Analytics', 'BLUE YONDER INDIA PRIVATE LIMITED', 'AVI Consulting LLP', 'CES Ltd.', 'CES Ltd.', 'Minions Ventures', 'TalentCo Search Pvt Ltd', 'Mailkit Private Limited', 'GlaxoSmithKline Pharmaceuticals Limited']\n"
     ]
    }
   ],
   "source": [
    "cname=driver.find_elements_by_xpath(\"//a[@class='subTitle ellipsis fleft']\")[0:10]\n",
    "for i in cname:\n",
    "    Cname=i.text\n",
    "    company_name.append(Cname)\n",
    "    \n",
    "print(company_name)"
   ]
  },
  {
   "cell_type": "code",
   "execution_count": 129,
   "metadata": {},
   "outputs": [],
   "source": []
  },
  {
   "cell_type": "code",
   "execution_count": 136,
   "metadata": {},
   "outputs": [
    {
     "name": "stdout",
     "output_type": "stream",
     "text": [
      "['Building and iterating reports (with eventual design collaboration) based around a larg...', 'In case you are trying to shift your career to Analytics and / or AI domain please do c...', 'Experience working with some of the following frameworks and libraries: Pandas, Numpy, ...', 'Experience with application development practices at scale, from problem definition to ...', 'Logical and Analytical skills must be really strongShould have experience with atleast ...', 'Logical and Analytical skills must be really strongShould have experience with atleast ...', 'Required Skills : - Advanced degree in Machine Learning, Computer Science, Electrical E...', 'Should have at-least 1 end-to-end ML project experience 2+ yrs of experience as Data Sc...', 'Candidates might get the opportunity to work from homeDeveloper(s) should be able to ta...', 'medical voice of customer feedback, customer listening, feedback from surveys and resea...']\n"
     ]
    }
   ],
   "source": [
    "\n",
    "\n",
    "\n",
    "desc=driver.find_elements_by_xpath(\"//div[@class='job-description fs12 grey-text']\")[0:10]\n",
    "for i in desc:\n",
    "    Desc=i.text\n",
    "    des.append(Desc)\n",
    "    \n",
    "print(des)"
   ]
  },
  {
   "cell_type": "code",
   "execution_count": 137,
   "metadata": {},
   "outputs": [
    {
     "name": "stdout",
     "output_type": "stream",
     "text": [
      "10 10 10 10\n"
     ]
    }
   ],
   "source": [
    "print(len(job_title),len(location),len(company_name),len(des))"
   ]
  },
  {
   "cell_type": "code",
   "execution_count": 138,
   "metadata": {},
   "outputs": [
    {
     "data": {
      "text/html": [
       "<div>\n",
       "<style scoped>\n",
       "    .dataframe tbody tr th:only-of-type {\n",
       "        vertical-align: middle;\n",
       "    }\n",
       "\n",
       "    .dataframe tbody tr th {\n",
       "        vertical-align: top;\n",
       "    }\n",
       "\n",
       "    .dataframe thead th {\n",
       "        text-align: right;\n",
       "    }\n",
       "</style>\n",
       "<table border=\"1\" class=\"dataframe\">\n",
       "  <thead>\n",
       "    <tr style=\"text-align: right;\">\n",
       "      <th></th>\n",
       "      <th>jobName</th>\n",
       "      <th>CName</th>\n",
       "      <th>location</th>\n",
       "      <th>description</th>\n",
       "    </tr>\n",
       "  </thead>\n",
       "  <tbody>\n",
       "    <tr>\n",
       "      <th>0</th>\n",
       "      <td>Fresher Data Engineer / Data Scientist / Data ...</td>\n",
       "      <td>ACHYUTAS SOFT PRIVATE LIMITED</td>\n",
       "      <td>Delhi NCR, Bengaluru, Hyderabad</td>\n",
       "      <td>Building and iterating reports (with eventual ...</td>\n",
       "    </tr>\n",
       "    <tr>\n",
       "      <th>1</th>\n",
       "      <td>Immediate opening For Data Scientist/Data Analyst</td>\n",
       "      <td>CAIA-Center For Artificial Intelligence &amp; Adva...</td>\n",
       "      <td>Chennai, Pune, Bengaluru, Hyderabad</td>\n",
       "      <td>In case you are trying to shift your career to...</td>\n",
       "    </tr>\n",
       "    <tr>\n",
       "      <th>2</th>\n",
       "      <td>Data Scientist - Machine Learning</td>\n",
       "      <td>BLUE YONDER INDIA PRIVATE LIMITED</td>\n",
       "      <td>Bengaluru</td>\n",
       "      <td>Experience working with some of the following ...</td>\n",
       "    </tr>\n",
       "    <tr>\n",
       "      <th>3</th>\n",
       "      <td>Senior Data Scientist - NLP/ Python/ R</td>\n",
       "      <td>AVI Consulting LLP</td>\n",
       "      <td>Bengaluru, Hyderabad</td>\n",
       "      <td>Experience with application development practi...</td>\n",
       "    </tr>\n",
       "    <tr>\n",
       "      <th>4</th>\n",
       "      <td>Senior Data Scientist | CES IT LTD | CMMI Level 5</td>\n",
       "      <td>CES Ltd.</td>\n",
       "      <td>Chennai, Pune, Delhi NCR, Mumbai, Bengaluru, H...</td>\n",
       "      <td>Logical and Analytical skills must be really s...</td>\n",
       "    </tr>\n",
       "    <tr>\n",
       "      <th>5</th>\n",
       "      <td>Senior Data Scientist | CES IT LTD | CMMI Level 5</td>\n",
       "      <td>CES Ltd.</td>\n",
       "      <td>Chennai, Pune, Delhi NCR, Mumbai, Bengaluru, H...</td>\n",
       "      <td>Logical and Analytical skills must be really s...</td>\n",
       "    </tr>\n",
       "    <tr>\n",
       "      <th>6</th>\n",
       "      <td>Data Scientist - Machine Learning/Data Mining</td>\n",
       "      <td>Minions Ventures</td>\n",
       "      <td>Bengaluru</td>\n",
       "      <td>Required Skills : - Advanced degree in Machine...</td>\n",
       "    </tr>\n",
       "    <tr>\n",
       "      <th>7</th>\n",
       "      <td>Artificial Intelligence Analyst/Data Scientist</td>\n",
       "      <td>TalentCo Search Pvt Ltd</td>\n",
       "      <td>Mumbai, Bengaluru</td>\n",
       "      <td>Should have at-least 1 end-to-end ML project e...</td>\n",
       "    </tr>\n",
       "    <tr>\n",
       "      <th>8</th>\n",
       "      <td>Data Scientist</td>\n",
       "      <td>Mailkit Private Limited</td>\n",
       "      <td>Chennai, Pune, Mumbai, Bengaluru, Hyderabad, K...</td>\n",
       "      <td>Candidates might get the opportunity to work f...</td>\n",
       "    </tr>\n",
       "    <tr>\n",
       "      <th>9</th>\n",
       "      <td>Global Medical Data Scientist</td>\n",
       "      <td>GlaxoSmithKline Pharmaceuticals Limited</td>\n",
       "      <td>Bengaluru, India</td>\n",
       "      <td>medical voice of customer feedback, customer l...</td>\n",
       "    </tr>\n",
       "  </tbody>\n",
       "</table>\n",
       "</div>"
      ],
      "text/plain": [
       "                                             jobName  \\\n",
       "0  Fresher Data Engineer / Data Scientist / Data ...   \n",
       "1  Immediate opening For Data Scientist/Data Analyst   \n",
       "2                  Data Scientist - Machine Learning   \n",
       "3             Senior Data Scientist - NLP/ Python/ R   \n",
       "4  Senior Data Scientist | CES IT LTD | CMMI Level 5   \n",
       "5  Senior Data Scientist | CES IT LTD | CMMI Level 5   \n",
       "6      Data Scientist - Machine Learning/Data Mining   \n",
       "7     Artificial Intelligence Analyst/Data Scientist   \n",
       "8                                     Data Scientist   \n",
       "9                      Global Medical Data Scientist   \n",
       "\n",
       "                                               CName  \\\n",
       "0                      ACHYUTAS SOFT PRIVATE LIMITED   \n",
       "1  CAIA-Center For Artificial Intelligence & Adva...   \n",
       "2                  BLUE YONDER INDIA PRIVATE LIMITED   \n",
       "3                                 AVI Consulting LLP   \n",
       "4                                           CES Ltd.   \n",
       "5                                           CES Ltd.   \n",
       "6                                   Minions Ventures   \n",
       "7                            TalentCo Search Pvt Ltd   \n",
       "8                            Mailkit Private Limited   \n",
       "9            GlaxoSmithKline Pharmaceuticals Limited   \n",
       "\n",
       "                                            location  \\\n",
       "0                    Delhi NCR, Bengaluru, Hyderabad   \n",
       "1                Chennai, Pune, Bengaluru, Hyderabad   \n",
       "2                                          Bengaluru   \n",
       "3                               Bengaluru, Hyderabad   \n",
       "4  Chennai, Pune, Delhi NCR, Mumbai, Bengaluru, H...   \n",
       "5  Chennai, Pune, Delhi NCR, Mumbai, Bengaluru, H...   \n",
       "6                                          Bengaluru   \n",
       "7                                  Mumbai, Bengaluru   \n",
       "8  Chennai, Pune, Mumbai, Bengaluru, Hyderabad, K...   \n",
       "9                                   Bengaluru, India   \n",
       "\n",
       "                                         description  \n",
       "0  Building and iterating reports (with eventual ...  \n",
       "1  In case you are trying to shift your career to...  \n",
       "2  Experience working with some of the following ...  \n",
       "3  Experience with application development practi...  \n",
       "4  Logical and Analytical skills must be really s...  \n",
       "5  Logical and Analytical skills must be really s...  \n",
       "6  Required Skills : - Advanced degree in Machine...  \n",
       "7  Should have at-least 1 end-to-end ML project e...  \n",
       "8  Candidates might get the opportunity to work f...  \n",
       "9  medical voice of customer feedback, customer l...  "
      ]
     },
     "execution_count": 138,
     "metadata": {},
     "output_type": "execute_result"
    }
   ],
   "source": [
    "naukri_df2=pd.DataFrame({'jobName':job_title,'CName':company_name,'location':location,'description':des})\n",
    "naukri_df2"
   ]
  },
  {
   "cell_type": "markdown",
   "metadata": {},
   "source": [
    "# Question 3 Solution"
   ]
  },
  {
   "cell_type": "code",
   "execution_count": 139,
   "metadata": {},
   "outputs": [],
   "source": [
    "url='https://www.naukri.com/'"
   ]
  },
  {
   "cell_type": "code",
   "execution_count": 140,
   "metadata": {},
   "outputs": [],
   "source": [
    "driver.get(url)"
   ]
  },
  {
   "cell_type": "code",
   "execution_count": 141,
   "metadata": {},
   "outputs": [],
   "source": [
    "#searching the job\n",
    "driver.find_element_by_xpath(\"//input[@class='sugInp']\").send_keys('Data Scientist')"
   ]
  },
  {
   "cell_type": "code",
   "execution_count": 142,
   "metadata": {},
   "outputs": [],
   "source": [
    "#searching the data\n",
    "driver.find_element_by_xpath(\"//button[@class='btn']\").click()"
   ]
  },
  {
   "cell_type": "code",
   "execution_count": 147,
   "metadata": {},
   "outputs": [],
   "source": [
    "#applying location filter\n",
    "driver.find_element_by_xpath(\"//span[@title='Delhi/NCR']\").click()"
   ]
  },
  {
   "cell_type": "code",
   "execution_count": 148,
   "metadata": {},
   "outputs": [],
   "source": [
    "#applying salary filter\n",
    "driver.find_element_by_xpath(\"//span[@title='3-6 Lakhs']\").click()"
   ]
  },
  {
   "cell_type": "code",
   "execution_count": 150,
   "metadata": {},
   "outputs": [],
   "source": [
    "job_title=[]\n",
    "company_name=[]\n",
    "location=[]\n",
    "exp_req=[]"
   ]
  },
  {
   "cell_type": "code",
   "execution_count": 151,
   "metadata": {},
   "outputs": [
    {
     "name": "stdout",
     "output_type": "stream",
     "text": [
      "['Fresher Data Engineer / Data Scientist / Data Analyst Requirements', 'Data Scientist - Python/Machine Learning', 'Data Scientist', 'Only Fresher / Data Scientist / Data Analyst / Business Analytics- MNC', 'Data Scientist', 'Lead Data Scientist', 'Excellent opportunity For Lead Data Scientist at Noida location', 'Lead Data Scientist', 'Excellent opportunity For Lead Data Scientist at Noida location', 'Data Scientist']\n"
     ]
    }
   ],
   "source": [
    "title=driver.find_elements_by_xpath(\"//a[@class='title fw500 ellipsis']\")[0:10]\n",
    "for i in title:\n",
    "    Title=i.text\n",
    "    job_title.append(Title)\n",
    "print(job_title)"
   ]
  },
  {
   "cell_type": "code",
   "execution_count": 152,
   "metadata": {},
   "outputs": [
    {
     "name": "stdout",
     "output_type": "stream",
     "text": [
      "['ACHYUTAS SOFT PRIVATE LIMITED', 'Jubna', 'PureSoftware Pvt Ltd.', 'GABA Consultancy services', 'World Wide Technology', 'NEC CORPORATION INDIA PRIVATE LTD', 'NEC CORPORATION INDIA PRIVATE LTD', 'NEC CORPORATION INDIA PRIVATE LTD', 'NEC CORPORATION INDIA PRIVATE LTD', 'Stark Industries']\n"
     ]
    }
   ],
   "source": [
    "cname=driver.find_elements_by_xpath(\"//a[@class='subTitle ellipsis fleft']\")[0:10]\n",
    "for i in cname:\n",
    "    Cname=i.text\n",
    "    company_name.append(Cname)\n",
    "    \n",
    "print(company_name)"
   ]
  },
  {
   "cell_type": "code",
   "execution_count": 153,
   "metadata": {},
   "outputs": [
    {
     "name": "stdout",
     "output_type": "stream",
     "text": [
      "['Delhi NCR, Bengaluru, Hyderabad', 'Noida', 'Gurgaon', 'Delhi NCR, Greater Noida, Noida', 'Gurgaon', 'Delhi NCR, Noida(Sector-142 Noida)', 'Delhi NCR(Sector-142 Noida), Noida', 'Delhi NCR, Noida(Sector-142 Noida)', 'Delhi NCR(Sector-142 Noida), Noida', 'Delhi']\n"
     ]
    }
   ],
   "source": [
    "lct=driver.find_elements_by_xpath(\"//li[@class='fleft grey-text br2 placeHolderLi location']/span\")[0:10]\n",
    "for i in lct:\n",
    "    Lct=i.text\n",
    "    location.append(Lct)\n",
    "    \n",
    "print(location)"
   ]
  },
  {
   "cell_type": "code",
   "execution_count": 154,
   "metadata": {},
   "outputs": [
    {
     "name": "stdout",
     "output_type": "stream",
     "text": [
      "['0-2 Yrs', '5-8 Yrs', '5-9 Yrs', '0-0 Yrs', '3-8 Yrs', '9-14 Yrs', '9-14 Yrs', '9-14 Yrs', '9-14 Yrs', '3-5 Yrs']\n"
     ]
    }
   ],
   "source": [
    "exp=driver.find_elements_by_xpath(\"//li[@class='fleft grey-text br2 placeHolderLi experience']/span\")[0:10]\n",
    "for i in exp:\n",
    "    Exp=i.text\n",
    "    exp_req.append(Exp)\n",
    "    \n",
    "print(exp_req)"
   ]
  },
  {
   "cell_type": "code",
   "execution_count": 155,
   "metadata": {},
   "outputs": [
    {
     "data": {
      "text/html": [
       "<div>\n",
       "<style scoped>\n",
       "    .dataframe tbody tr th:only-of-type {\n",
       "        vertical-align: middle;\n",
       "    }\n",
       "\n",
       "    .dataframe tbody tr th {\n",
       "        vertical-align: top;\n",
       "    }\n",
       "\n",
       "    .dataframe thead th {\n",
       "        text-align: right;\n",
       "    }\n",
       "</style>\n",
       "<table border=\"1\" class=\"dataframe\">\n",
       "  <thead>\n",
       "    <tr style=\"text-align: right;\">\n",
       "      <th></th>\n",
       "      <th>jobName</th>\n",
       "      <th>CName</th>\n",
       "      <th>location</th>\n",
       "      <th>experience</th>\n",
       "    </tr>\n",
       "  </thead>\n",
       "  <tbody>\n",
       "    <tr>\n",
       "      <th>0</th>\n",
       "      <td>Fresher Data Engineer / Data Scientist / Data ...</td>\n",
       "      <td>ACHYUTAS SOFT PRIVATE LIMITED</td>\n",
       "      <td>Delhi NCR, Bengaluru, Hyderabad</td>\n",
       "      <td>0-2 Yrs</td>\n",
       "    </tr>\n",
       "    <tr>\n",
       "      <th>1</th>\n",
       "      <td>Data Scientist - Python/Machine Learning</td>\n",
       "      <td>Jubna</td>\n",
       "      <td>Noida</td>\n",
       "      <td>5-8 Yrs</td>\n",
       "    </tr>\n",
       "    <tr>\n",
       "      <th>2</th>\n",
       "      <td>Data Scientist</td>\n",
       "      <td>PureSoftware Pvt Ltd.</td>\n",
       "      <td>Gurgaon</td>\n",
       "      <td>5-9 Yrs</td>\n",
       "    </tr>\n",
       "    <tr>\n",
       "      <th>3</th>\n",
       "      <td>Only Fresher / Data Scientist / Data Analyst /...</td>\n",
       "      <td>GABA Consultancy services</td>\n",
       "      <td>Delhi NCR, Greater Noida, Noida</td>\n",
       "      <td>0-0 Yrs</td>\n",
       "    </tr>\n",
       "    <tr>\n",
       "      <th>4</th>\n",
       "      <td>Data Scientist</td>\n",
       "      <td>World Wide Technology</td>\n",
       "      <td>Gurgaon</td>\n",
       "      <td>3-8 Yrs</td>\n",
       "    </tr>\n",
       "    <tr>\n",
       "      <th>5</th>\n",
       "      <td>Lead Data Scientist</td>\n",
       "      <td>NEC CORPORATION INDIA PRIVATE LTD</td>\n",
       "      <td>Delhi NCR, Noida(Sector-142 Noida)</td>\n",
       "      <td>9-14 Yrs</td>\n",
       "    </tr>\n",
       "    <tr>\n",
       "      <th>6</th>\n",
       "      <td>Excellent opportunity For Lead Data Scientist ...</td>\n",
       "      <td>NEC CORPORATION INDIA PRIVATE LTD</td>\n",
       "      <td>Delhi NCR(Sector-142 Noida), Noida</td>\n",
       "      <td>9-14 Yrs</td>\n",
       "    </tr>\n",
       "    <tr>\n",
       "      <th>7</th>\n",
       "      <td>Lead Data Scientist</td>\n",
       "      <td>NEC CORPORATION INDIA PRIVATE LTD</td>\n",
       "      <td>Delhi NCR, Noida(Sector-142 Noida)</td>\n",
       "      <td>9-14 Yrs</td>\n",
       "    </tr>\n",
       "    <tr>\n",
       "      <th>8</th>\n",
       "      <td>Excellent opportunity For Lead Data Scientist ...</td>\n",
       "      <td>NEC CORPORATION INDIA PRIVATE LTD</td>\n",
       "      <td>Delhi NCR(Sector-142 Noida), Noida</td>\n",
       "      <td>9-14 Yrs</td>\n",
       "    </tr>\n",
       "    <tr>\n",
       "      <th>9</th>\n",
       "      <td>Data Scientist</td>\n",
       "      <td>Stark Industries</td>\n",
       "      <td>Delhi</td>\n",
       "      <td>3-5 Yrs</td>\n",
       "    </tr>\n",
       "  </tbody>\n",
       "</table>\n",
       "</div>"
      ],
      "text/plain": [
       "                                             jobName  \\\n",
       "0  Fresher Data Engineer / Data Scientist / Data ...   \n",
       "1           Data Scientist - Python/Machine Learning   \n",
       "2                                     Data Scientist   \n",
       "3  Only Fresher / Data Scientist / Data Analyst /...   \n",
       "4                                     Data Scientist   \n",
       "5                                Lead Data Scientist   \n",
       "6  Excellent opportunity For Lead Data Scientist ...   \n",
       "7                                Lead Data Scientist   \n",
       "8  Excellent opportunity For Lead Data Scientist ...   \n",
       "9                                     Data Scientist   \n",
       "\n",
       "                               CName                            location  \\\n",
       "0      ACHYUTAS SOFT PRIVATE LIMITED     Delhi NCR, Bengaluru, Hyderabad   \n",
       "1                              Jubna                               Noida   \n",
       "2              PureSoftware Pvt Ltd.                             Gurgaon   \n",
       "3          GABA Consultancy services     Delhi NCR, Greater Noida, Noida   \n",
       "4              World Wide Technology                             Gurgaon   \n",
       "5  NEC CORPORATION INDIA PRIVATE LTD  Delhi NCR, Noida(Sector-142 Noida)   \n",
       "6  NEC CORPORATION INDIA PRIVATE LTD  Delhi NCR(Sector-142 Noida), Noida   \n",
       "7  NEC CORPORATION INDIA PRIVATE LTD  Delhi NCR, Noida(Sector-142 Noida)   \n",
       "8  NEC CORPORATION INDIA PRIVATE LTD  Delhi NCR(Sector-142 Noida), Noida   \n",
       "9                   Stark Industries                               Delhi   \n",
       "\n",
       "  experience  \n",
       "0    0-2 Yrs  \n",
       "1    5-8 Yrs  \n",
       "2    5-9 Yrs  \n",
       "3    0-0 Yrs  \n",
       "4    3-8 Yrs  \n",
       "5   9-14 Yrs  \n",
       "6   9-14 Yrs  \n",
       "7   9-14 Yrs  \n",
       "8   9-14 Yrs  \n",
       "9    3-5 Yrs  "
      ]
     },
     "execution_count": 155,
     "metadata": {},
     "output_type": "execute_result"
    }
   ],
   "source": [
    "naukri_df3=pd.DataFrame({'jobName':job_title,'CName':company_name,'location':location,'experience':exp_req})\n",
    "naukri_df3"
   ]
  },
  {
   "cell_type": "markdown",
   "metadata": {},
   "source": [
    "# Question 4 Solution"
   ]
  },
  {
   "cell_type": "code",
   "execution_count": 158,
   "metadata": {},
   "outputs": [],
   "source": [
    "url='https://www.glassdoor.co.in/index.htm'"
   ]
  },
  {
   "cell_type": "code",
   "execution_count": 159,
   "metadata": {},
   "outputs": [],
   "source": [
    "driver.get(url)"
   ]
  },
  {
   "cell_type": "code",
   "execution_count": 163,
   "metadata": {},
   "outputs": [],
   "source": [
    "#searching the job where job name is data scientist and location is noida\n",
    "driver.find_element_by_xpath(\"//input[@id='sc.keyword']\").send_keys(\"Data Scientist\")\n"
   ]
  },
  {
   "cell_type": "code",
   "execution_count": 165,
   "metadata": {},
   "outputs": [],
   "source": [
    "driver.find_element_by_xpath(\"//input[@id='sc.location']\").send_keys(\"noida\")\n"
   ]
  },
  {
   "cell_type": "code",
   "execution_count": 166,
   "metadata": {},
   "outputs": [],
   "source": [
    "driver.find_element_by_xpath(\"//button[@class='gd-ui-button ml-std col-auto SearchStyles__newSearchButton css-iixdfr']\").click()"
   ]
  },
  {
   "cell_type": "code",
   "execution_count": 167,
   "metadata": {},
   "outputs": [],
   "source": [
    "company_name=[]\n",
    "days_to_posted=[]\n",
    "rating=[]"
   ]
  },
  {
   "cell_type": "code",
   "execution_count": 168,
   "metadata": {},
   "outputs": [
    {
     "name": "stdout",
     "output_type": "stream",
     "text": [
      "['Genpact', 'Genpact', 'IHS Markit', 'Ericsson-Worldwide', 'Terra Economics & Analytics Lab (TEAL)', 'Brickred', 'Techlive', 'Algoscale', 'Biz2Credit Inc', 'Priority Vendor']\n"
     ]
    }
   ],
   "source": [
    "cname=driver.find_elements_by_xpath(\"//a[@class=' css-10l5u4p e1n63ojh0 jobLink']\")[0:10]\n",
    "for i in cname:\n",
    "    Cname=i.text\n",
    "    company_name.append(Cname)\n",
    "    \n",
    "print(company_name)"
   ]
  },
  {
   "cell_type": "code",
   "execution_count": 170,
   "metadata": {},
   "outputs": [
    {
     "name": "stdout",
     "output_type": "stream",
     "text": [
      "['27d', '4d', '7d', '14d', '24h', '18d', '5d', '26d', '7d', '26d']\n"
     ]
    }
   ],
   "source": [
    "day=driver.find_elements_by_xpath(\"//div[@data-test='job-age']\")[0:10]\n",
    "for i in day:\n",
    "    Day=i.text\n",
    "    days_to_posted.append(Day)\n",
    "    \n",
    "print(days_to_posted)"
   ]
  },
  {
   "cell_type": "code",
   "execution_count": 171,
   "metadata": {},
   "outputs": [
    {
     "name": "stdout",
     "output_type": "stream",
     "text": [
      "['3.8', '3.8', '4.1', '4', '4.9', '3.7', '5', '3.7', '3.7', '4']\n"
     ]
    }
   ],
   "source": [
    "rat=driver.find_elements_by_xpath(\"//span[@class='compactStars ']\")[0:10]\n",
    "for i in rat:\n",
    "    Rat=i.text\n",
    "    rating.append(Rat)\n",
    "    \n",
    "print(rating)"
   ]
  },
  {
   "cell_type": "code",
   "execution_count": 172,
   "metadata": {},
   "outputs": [
    {
     "data": {
      "text/html": [
       "<div>\n",
       "<style scoped>\n",
       "    .dataframe tbody tr th:only-of-type {\n",
       "        vertical-align: middle;\n",
       "    }\n",
       "\n",
       "    .dataframe tbody tr th {\n",
       "        vertical-align: top;\n",
       "    }\n",
       "\n",
       "    .dataframe thead th {\n",
       "        text-align: right;\n",
       "    }\n",
       "</style>\n",
       "<table border=\"1\" class=\"dataframe\">\n",
       "  <thead>\n",
       "    <tr style=\"text-align: right;\">\n",
       "      <th></th>\n",
       "      <th>company</th>\n",
       "      <th>days posted</th>\n",
       "      <th>ratings</th>\n",
       "    </tr>\n",
       "  </thead>\n",
       "  <tbody>\n",
       "    <tr>\n",
       "      <th>0</th>\n",
       "      <td>Genpact</td>\n",
       "      <td>27d</td>\n",
       "      <td>3.8</td>\n",
       "    </tr>\n",
       "    <tr>\n",
       "      <th>1</th>\n",
       "      <td>Genpact</td>\n",
       "      <td>4d</td>\n",
       "      <td>3.8</td>\n",
       "    </tr>\n",
       "    <tr>\n",
       "      <th>2</th>\n",
       "      <td>IHS Markit</td>\n",
       "      <td>7d</td>\n",
       "      <td>4.1</td>\n",
       "    </tr>\n",
       "    <tr>\n",
       "      <th>3</th>\n",
       "      <td>Ericsson-Worldwide</td>\n",
       "      <td>14d</td>\n",
       "      <td>4</td>\n",
       "    </tr>\n",
       "    <tr>\n",
       "      <th>4</th>\n",
       "      <td>Terra Economics &amp; Analytics Lab (TEAL)</td>\n",
       "      <td>24h</td>\n",
       "      <td>4.9</td>\n",
       "    </tr>\n",
       "    <tr>\n",
       "      <th>5</th>\n",
       "      <td>Brickred</td>\n",
       "      <td>18d</td>\n",
       "      <td>3.7</td>\n",
       "    </tr>\n",
       "    <tr>\n",
       "      <th>6</th>\n",
       "      <td>Techlive</td>\n",
       "      <td>5d</td>\n",
       "      <td>5</td>\n",
       "    </tr>\n",
       "    <tr>\n",
       "      <th>7</th>\n",
       "      <td>Algoscale</td>\n",
       "      <td>26d</td>\n",
       "      <td>3.7</td>\n",
       "    </tr>\n",
       "    <tr>\n",
       "      <th>8</th>\n",
       "      <td>Biz2Credit Inc</td>\n",
       "      <td>7d</td>\n",
       "      <td>3.7</td>\n",
       "    </tr>\n",
       "    <tr>\n",
       "      <th>9</th>\n",
       "      <td>Priority Vendor</td>\n",
       "      <td>26d</td>\n",
       "      <td>4</td>\n",
       "    </tr>\n",
       "  </tbody>\n",
       "</table>\n",
       "</div>"
      ],
      "text/plain": [
       "                                  company days posted ratings\n",
       "0                                 Genpact         27d     3.8\n",
       "1                                 Genpact          4d     3.8\n",
       "2                              IHS Markit          7d     4.1\n",
       "3                      Ericsson-Worldwide         14d       4\n",
       "4  Terra Economics & Analytics Lab (TEAL)         24h     4.9\n",
       "5                                Brickred         18d     3.7\n",
       "6                                Techlive          5d       5\n",
       "7                               Algoscale         26d     3.7\n",
       "8                          Biz2Credit Inc          7d     3.7\n",
       "9                         Priority Vendor         26d       4"
      ]
     },
     "execution_count": 172,
     "metadata": {},
     "output_type": "execute_result"
    }
   ],
   "source": [
    "df4=pd.DataFrame({'company':company_name,'days posted':days_to_posted,'ratings':rating})\n",
    "df4"
   ]
  },
  {
   "cell_type": "markdown",
   "metadata": {},
   "source": [
    "# Question 5 solution"
   ]
  },
  {
   "cell_type": "code",
   "execution_count": 173,
   "metadata": {},
   "outputs": [],
   "source": [
    "url='https://www.glassdoor.co.in/Salaries/index.htm'"
   ]
  },
  {
   "cell_type": "code",
   "execution_count": 174,
   "metadata": {},
   "outputs": [],
   "source": [
    "driver.get(url)"
   ]
  },
  {
   "cell_type": "code",
   "execution_count": 176,
   "metadata": {},
   "outputs": [],
   "source": [
    "#searching the reult\n",
    "driver.find_element_by_xpath(\"//input[@id='KeywordSearch']\").send_keys(\"Data Scientist\")\n",
    "driver.find_element_by_xpath(\"//input[@id='LocationSearch']\").send_keys(\"noida\")\n",
    "driver.find_element_by_xpath(\"//button[@class='gd-btn-mkt']\").click()"
   ]
  },
  {
   "cell_type": "code",
   "execution_count": 182,
   "metadata": {},
   "outputs": [],
   "source": [
    "company_name=[]\n",
    "avg_salary=[]\n",
    "min_salary=[]\n",
    "max_salary=[]"
   ]
  },
  {
   "cell_type": "code",
   "execution_count": 183,
   "metadata": {},
   "outputs": [
    {
     "name": "stdout",
     "output_type": "stream",
     "text": [
      "['Delhivery', 'Accenture', 'IBM', 'Ericsson-Worldwide', 'UnitedHealth Group', 'Analytics Vidhya', 'Tata Consultancy Services', 'Cognizant Technology Solutions', 'Valiance Solutions', 'Vidooly Media Tech']\n"
     ]
    }
   ],
   "source": [
    "cname=driver.find_elements_by_xpath(\"//div[@data-test='job-info']/p[2]\")[0:10]\n",
    "for i in cname:\n",
    "    Cname=i.text\n",
    "    company_name.append(Cname)\n",
    "    \n",
    "print(company_name)"
   ]
  },
  {
   "cell_type": "code",
   "execution_count": 188,
   "metadata": {},
   "outputs": [
    {
     "name": "stdout",
     "output_type": "stream",
     "text": [
      "['₹11,495K', '₹2,200K', '₹2,700K', '₹1,595K', '₹1,557K', '₹22K', '₹1,000K', '₹1,250K', '₹1,138K', '₹20K']\n"
     ]
    }
   ],
   "source": [
    "asal=driver.find_elements_by_xpath(\"//div[@class='common__RangeBarStyle__values common__flex__justifySpaceBetween common__flex__container ']/span[2]\")[0:10]\n",
    "for i in asal:\n",
    "    Asal=i.text\n",
    "    avg_salary.append(Asal)\n",
    "    \n",
    "print(avg_salary)"
   ]
  },
  {
   "cell_type": "code",
   "execution_count": 191,
   "metadata": {},
   "outputs": [
    {
     "name": "stdout",
     "output_type": "stream",
     "text": [
      "['₹705K', '₹571K', '₹580K', '₹468K', '₹708K', '₹14K', '₹488K', '₹784K', '₹496K', '₹8K']\n"
     ]
    }
   ],
   "source": [
    "misal=driver.find_elements_by_xpath(\"//div[@class='common__RangeBarStyle__values common__flex__justifySpaceBetween common__flex__container ']/span[1]\")[0:10]\n",
    "for i in misal:\n",
    "    Misal=i.text\n",
    "    min_salary.append(Misal)\n",
    "    \n",
    "print(min_salary)"
   ]
  },
  {
   "cell_type": "code",
   "execution_count": 192,
   "metadata": {},
   "outputs": [
    {
     "name": "stdout",
     "output_type": "stream",
     "text": [
      "['₹11,495K', '₹2,200K', '₹2,700K', '₹1,595K', '₹1,557K', '₹22K', '₹1,000K', '₹1,250K', '₹1,138K', '₹20K']\n"
     ]
    }
   ],
   "source": [
    "mxsal=driver.find_elements_by_xpath(\"//div[@class='common__RangeBarStyle__values common__flex__justifySpaceBetween common__flex__container ']/span[2]\")[0:10]\n",
    "for i in mxsal:\n",
    "    Mxsal=i.text\n",
    "    max_salary.append(Mxsal)\n",
    "    \n",
    "print(max_salary)"
   ]
  },
  {
   "cell_type": "code",
   "execution_count": 193,
   "metadata": {},
   "outputs": [
    {
     "data": {
      "text/html": [
       "<div>\n",
       "<style scoped>\n",
       "    .dataframe tbody tr th:only-of-type {\n",
       "        vertical-align: middle;\n",
       "    }\n",
       "\n",
       "    .dataframe tbody tr th {\n",
       "        vertical-align: top;\n",
       "    }\n",
       "\n",
       "    .dataframe thead th {\n",
       "        text-align: right;\n",
       "    }\n",
       "</style>\n",
       "<table border=\"1\" class=\"dataframe\">\n",
       "  <thead>\n",
       "    <tr style=\"text-align: right;\">\n",
       "      <th></th>\n",
       "      <th>company</th>\n",
       "      <th>average salary</th>\n",
       "      <th>min salary</th>\n",
       "      <th>max salary</th>\n",
       "    </tr>\n",
       "  </thead>\n",
       "  <tbody>\n",
       "    <tr>\n",
       "      <th>0</th>\n",
       "      <td>Delhivery</td>\n",
       "      <td>₹11,495K</td>\n",
       "      <td>₹705K</td>\n",
       "      <td>₹11,495K</td>\n",
       "    </tr>\n",
       "    <tr>\n",
       "      <th>1</th>\n",
       "      <td>Accenture</td>\n",
       "      <td>₹2,200K</td>\n",
       "      <td>₹571K</td>\n",
       "      <td>₹2,200K</td>\n",
       "    </tr>\n",
       "    <tr>\n",
       "      <th>2</th>\n",
       "      <td>IBM</td>\n",
       "      <td>₹2,700K</td>\n",
       "      <td>₹580K</td>\n",
       "      <td>₹2,700K</td>\n",
       "    </tr>\n",
       "    <tr>\n",
       "      <th>3</th>\n",
       "      <td>Ericsson-Worldwide</td>\n",
       "      <td>₹1,595K</td>\n",
       "      <td>₹468K</td>\n",
       "      <td>₹1,595K</td>\n",
       "    </tr>\n",
       "    <tr>\n",
       "      <th>4</th>\n",
       "      <td>UnitedHealth Group</td>\n",
       "      <td>₹1,557K</td>\n",
       "      <td>₹708K</td>\n",
       "      <td>₹1,557K</td>\n",
       "    </tr>\n",
       "    <tr>\n",
       "      <th>5</th>\n",
       "      <td>Analytics Vidhya</td>\n",
       "      <td>₹22K</td>\n",
       "      <td>₹14K</td>\n",
       "      <td>₹22K</td>\n",
       "    </tr>\n",
       "    <tr>\n",
       "      <th>6</th>\n",
       "      <td>Tata Consultancy Services</td>\n",
       "      <td>₹1,000K</td>\n",
       "      <td>₹488K</td>\n",
       "      <td>₹1,000K</td>\n",
       "    </tr>\n",
       "    <tr>\n",
       "      <th>7</th>\n",
       "      <td>Cognizant Technology Solutions</td>\n",
       "      <td>₹1,250K</td>\n",
       "      <td>₹784K</td>\n",
       "      <td>₹1,250K</td>\n",
       "    </tr>\n",
       "    <tr>\n",
       "      <th>8</th>\n",
       "      <td>Valiance Solutions</td>\n",
       "      <td>₹1,138K</td>\n",
       "      <td>₹496K</td>\n",
       "      <td>₹1,138K</td>\n",
       "    </tr>\n",
       "    <tr>\n",
       "      <th>9</th>\n",
       "      <td>Vidooly Media Tech</td>\n",
       "      <td>₹20K</td>\n",
       "      <td>₹8K</td>\n",
       "      <td>₹20K</td>\n",
       "    </tr>\n",
       "  </tbody>\n",
       "</table>\n",
       "</div>"
      ],
      "text/plain": [
       "                          company average salary min salary max salary\n",
       "0                       Delhivery       ₹11,495K      ₹705K   ₹11,495K\n",
       "1                       Accenture        ₹2,200K      ₹571K    ₹2,200K\n",
       "2                             IBM        ₹2,700K      ₹580K    ₹2,700K\n",
       "3              Ericsson-Worldwide        ₹1,595K      ₹468K    ₹1,595K\n",
       "4              UnitedHealth Group        ₹1,557K      ₹708K    ₹1,557K\n",
       "5                Analytics Vidhya           ₹22K       ₹14K       ₹22K\n",
       "6       Tata Consultancy Services        ₹1,000K      ₹488K    ₹1,000K\n",
       "7  Cognizant Technology Solutions        ₹1,250K      ₹784K    ₹1,250K\n",
       "8              Valiance Solutions        ₹1,138K      ₹496K    ₹1,138K\n",
       "9              Vidooly Media Tech           ₹20K        ₹8K       ₹20K"
      ]
     },
     "execution_count": 193,
     "metadata": {},
     "output_type": "execute_result"
    }
   ],
   "source": [
    "df5=pd.DataFrame({'company':company_name,'average salary':avg_salary,'min salary':min_salary,'max salary':max_salary})\n",
    "df5"
   ]
  },
  {
   "cell_type": "markdown",
   "metadata": {},
   "source": [
    "# Question 6 solution"
   ]
  },
  {
   "cell_type": "code",
   "execution_count": 220,
   "metadata": {},
   "outputs": [],
   "source": [
    "url='https://www.flipkart.com/'"
   ]
  },
  {
   "cell_type": "code",
   "execution_count": 221,
   "metadata": {},
   "outputs": [],
   "source": [
    "driver.get(url)"
   ]
  },
  {
   "cell_type": "code",
   "execution_count": 222,
   "metadata": {},
   "outputs": [],
   "source": [
    "brand=[]\n",
    "des=[]\n",
    "price=[]\n",
    "discount=[]"
   ]
  },
  {
   "cell_type": "code",
   "execution_count": 223,
   "metadata": {},
   "outputs": [],
   "source": [
    "driver.find_element_by_xpath(\"//input[@class='_3704LK']\").send_keys('sunglasses')"
   ]
  },
  {
   "cell_type": "code",
   "execution_count": 224,
   "metadata": {},
   "outputs": [],
   "source": [
    "driver.find_element_by_xpath(\"//button[@class='L0Z3Pu']\").click()"
   ]
  },
  {
   "cell_type": "code",
   "execution_count": 226,
   "metadata": {},
   "outputs": [],
   "source": [
    "start=0\n",
    "end=3\n",
    "\n",
    "for page in range(start,end):\n",
    "        next_button=driver.find_element_by_xpath(\"//*[@id='container']/div/div[3]/div[2]/div[1]/div[2]/div[12]/div/div/nav/a[11]/span\")\n",
    "\n",
    "    \n",
    "        br=driver.find_elements_by_xpath(\"//div[@class='_2WkVRV']\")\n",
    "        for i in br:\n",
    "            brand.append(i.text)\n",
    "        ds=driver.find_elements_by_xpath(\"//a[@class='IRpwTa']\")\n",
    "        for i in ds:\n",
    "            des.append(i.text)\n",
    "        pr=driver.find_elements_by_xpath(\"//div[@class='_30jeq3']\")\n",
    "        for i in pr:\n",
    "            price.append(i.text)\n",
    "        dis=driver.find_elements_by_xpath(\"//div[@class='_3Ay6Sb']/span\")\n",
    "        for i in dis:\n",
    "            discount.append(i.text)\n",
    "        \n",
    "        if next_button.text=='next':\n",
    "            next_button.click()\n",
    "            time.sleep(3)\n",
    "    \n",
    "\n",
    "            "
   ]
  },
  {
   "cell_type": "code",
   "execution_count": 227,
   "metadata": {},
   "outputs": [
    {
     "data": {
      "text/plain": [
       "['Tazzx',\n",
       " 'Royal Son',\n",
       " 'FDA COLLECTION',\n",
       " 'FDA COLLECTION',\n",
       " 'Rozzetta Craft',\n",
       " 'Phenomenal',\n",
       " 'ROZZETTA CRAFT',\n",
       " 'Royal Son',\n",
       " 'FDA COLLECTION',\n",
       " 'JOHAENA',\n",
       " 'Winsome',\n",
       " 'Tazzx',\n",
       " 'Phenomenal',\n",
       " 'Dannilo',\n",
       " 'shadz',\n",
       " 'Gansta',\n",
       " 'shah collections',\n",
       " 'shah collections',\n",
       " 'funglasses',\n",
       " 'hipe',\n",
       " 'Riffko',\n",
       " 'Fastrack',\n",
       " 'LOPO',\n",
       " 'Gansta',\n",
       " 'Trendy Glasses',\n",
       " 'PIRASO',\n",
       " 'Singco India',\n",
       " 'Royal Son',\n",
       " 'Phenomenal',\n",
       " 'Riffko',\n",
       " 'ROZZETTA CRAFT',\n",
       " 'Specsmakers',\n",
       " 'Fastrack',\n",
       " 'like future',\n",
       " 'funglasses',\n",
       " 'Specsmakers',\n",
       " 'shadz',\n",
       " 'ROZZETTA CRAFT',\n",
       " 'HAMIW COLLECTION',\n",
       " 'ROYAL SON',\n",
       " 'Tazzx',\n",
       " 'Royal Son',\n",
       " 'FDA COLLECTION',\n",
       " 'FDA COLLECTION',\n",
       " 'Rozzetta Craft',\n",
       " 'Phenomenal',\n",
       " 'ROZZETTA CRAFT',\n",
       " 'Royal Son',\n",
       " 'FDA COLLECTION',\n",
       " 'JOHAENA',\n",
       " 'Winsome',\n",
       " 'Tazzx',\n",
       " 'Phenomenal',\n",
       " 'Dannilo',\n",
       " 'shadz',\n",
       " 'Gansta',\n",
       " 'shah collections',\n",
       " 'shah collections',\n",
       " 'funglasses',\n",
       " 'hipe',\n",
       " 'Riffko',\n",
       " 'Fastrack',\n",
       " 'LOPO',\n",
       " 'Gansta',\n",
       " 'Trendy Glasses',\n",
       " 'PIRASO',\n",
       " 'Singco India',\n",
       " 'Royal Son',\n",
       " 'Phenomenal',\n",
       " 'Riffko',\n",
       " 'ROZZETTA CRAFT',\n",
       " 'Specsmakers',\n",
       " 'Fastrack',\n",
       " 'like future',\n",
       " 'funglasses',\n",
       " 'Specsmakers',\n",
       " 'shadz',\n",
       " 'ROZZETTA CRAFT',\n",
       " 'HAMIW COLLECTION',\n",
       " 'ROYAL SON',\n",
       " 'Tazzx',\n",
       " 'Royal Son',\n",
       " 'FDA COLLECTION',\n",
       " 'FDA COLLECTION',\n",
       " 'Rozzetta Craft',\n",
       " 'Phenomenal',\n",
       " 'ROZZETTA CRAFT',\n",
       " 'Royal Son',\n",
       " 'FDA COLLECTION',\n",
       " 'JOHAENA',\n",
       " 'Winsome',\n",
       " 'Tazzx',\n",
       " 'Phenomenal',\n",
       " 'Dannilo',\n",
       " 'shadz',\n",
       " 'Gansta',\n",
       " 'shah collections',\n",
       " 'shah collections',\n",
       " 'funglasses',\n",
       " 'hipe',\n",
       " 'Riffko',\n",
       " 'Fastrack',\n",
       " 'LOPO',\n",
       " 'Gansta',\n",
       " 'Trendy Glasses',\n",
       " 'PIRASO',\n",
       " 'Singco India',\n",
       " 'Royal Son',\n",
       " 'Phenomenal',\n",
       " 'Riffko',\n",
       " 'ROZZETTA CRAFT',\n",
       " 'Specsmakers',\n",
       " 'Fastrack',\n",
       " 'like future',\n",
       " 'funglasses',\n",
       " 'Specsmakers',\n",
       " 'shadz',\n",
       " 'ROZZETTA CRAFT',\n",
       " 'HAMIW COLLECTION',\n",
       " 'ROYAL SON']"
      ]
     },
     "execution_count": 227,
     "metadata": {},
     "output_type": "execute_result"
    }
   ],
   "source": []
  },
  {
   "cell_type": "code",
   "execution_count": 230,
   "metadata": {},
   "outputs": [
    {
     "name": "stdout",
     "output_type": "stream",
     "text": [
      "120 87 120 120\n"
     ]
    }
   ],
   "source": [
    "print(len(brand),len(des),len(price),len(discount))"
   ]
  },
  {
   "cell_type": "code",
   "execution_count": 231,
   "metadata": {},
   "outputs": [
    {
     "data": {
      "text/html": [
       "<div>\n",
       "<style scoped>\n",
       "    .dataframe tbody tr th:only-of-type {\n",
       "        vertical-align: middle;\n",
       "    }\n",
       "\n",
       "    .dataframe tbody tr th {\n",
       "        vertical-align: top;\n",
       "    }\n",
       "\n",
       "    .dataframe thead th {\n",
       "        text-align: right;\n",
       "    }\n",
       "</style>\n",
       "<table border=\"1\" class=\"dataframe\">\n",
       "  <thead>\n",
       "    <tr style=\"text-align: right;\">\n",
       "      <th></th>\n",
       "      <th>Brand</th>\n",
       "      <th>Description</th>\n",
       "      <th>Price</th>\n",
       "      <th>Discount</th>\n",
       "    </tr>\n",
       "  </thead>\n",
       "  <tbody>\n",
       "    <tr>\n",
       "      <th>0</th>\n",
       "      <td>Tazzx</td>\n",
       "      <td>Gradient, Mirrored, UV Protection Round, Round...</td>\n",
       "      <td>₹168</td>\n",
       "      <td>83% off</td>\n",
       "    </tr>\n",
       "    <tr>\n",
       "      <th>1</th>\n",
       "      <td>Royal Son</td>\n",
       "      <td>UV Protection Rectangular Sunglasses (Free Size)</td>\n",
       "      <td>₹664</td>\n",
       "      <td>66% off</td>\n",
       "    </tr>\n",
       "    <tr>\n",
       "      <th>2</th>\n",
       "      <td>FDA COLLECTION</td>\n",
       "      <td>UV Protection, Mirrored Retro Square Sunglasse...</td>\n",
       "      <td>₹199</td>\n",
       "      <td>84% off</td>\n",
       "    </tr>\n",
       "    <tr>\n",
       "      <th>3</th>\n",
       "      <td>FDA COLLECTION</td>\n",
       "      <td>UV Protection Retro Square Sunglasses (Free Size)</td>\n",
       "      <td>₹188</td>\n",
       "      <td>87% off</td>\n",
       "    </tr>\n",
       "    <tr>\n",
       "      <th>4</th>\n",
       "      <td>Rozzetta Craft</td>\n",
       "      <td>Gradient, UV Protection Aviator, Retro Square ...</td>\n",
       "      <td>₹398</td>\n",
       "      <td>73% off</td>\n",
       "    </tr>\n",
       "    <tr>\n",
       "      <th>...</th>\n",
       "      <td>...</td>\n",
       "      <td>...</td>\n",
       "      <td>...</td>\n",
       "      <td>...</td>\n",
       "    </tr>\n",
       "    <tr>\n",
       "      <th>81</th>\n",
       "      <td>Royal Son</td>\n",
       "      <td>UV Protection Wayfarer Sunglasses (Free Size)</td>\n",
       "      <td>₹664</td>\n",
       "      <td>66% off</td>\n",
       "    </tr>\n",
       "    <tr>\n",
       "      <th>82</th>\n",
       "      <td>FDA COLLECTION</td>\n",
       "      <td>Mirrored Aviator Sunglasses (Free Size)</td>\n",
       "      <td>₹199</td>\n",
       "      <td>84% off</td>\n",
       "    </tr>\n",
       "    <tr>\n",
       "      <th>83</th>\n",
       "      <td>FDA COLLECTION</td>\n",
       "      <td>Mirrored Rectangular Sunglasses (52)</td>\n",
       "      <td>₹188</td>\n",
       "      <td>87% off</td>\n",
       "    </tr>\n",
       "    <tr>\n",
       "      <th>84</th>\n",
       "      <td>Rozzetta Craft</td>\n",
       "      <td>UV Protection, Riding Glasses Rectangular Sung...</td>\n",
       "      <td>₹398</td>\n",
       "      <td>73% off</td>\n",
       "    </tr>\n",
       "    <tr>\n",
       "      <th>85</th>\n",
       "      <td>Phenomenal</td>\n",
       "      <td>UV Protection Wayfarer, Sports, Shield, Rectan...</td>\n",
       "      <td>₹399</td>\n",
       "      <td>80% off</td>\n",
       "    </tr>\n",
       "  </tbody>\n",
       "</table>\n",
       "<p>86 rows × 4 columns</p>\n",
       "</div>"
      ],
      "text/plain": [
       "             Brand                                        Description Price  \\\n",
       "0            Tazzx  Gradient, Mirrored, UV Protection Round, Round...  ₹168   \n",
       "1        Royal Son   UV Protection Rectangular Sunglasses (Free Size)  ₹664   \n",
       "2   FDA COLLECTION  UV Protection, Mirrored Retro Square Sunglasse...  ₹199   \n",
       "3   FDA COLLECTION  UV Protection Retro Square Sunglasses (Free Size)  ₹188   \n",
       "4   Rozzetta Craft  Gradient, UV Protection Aviator, Retro Square ...  ₹398   \n",
       "..             ...                                                ...   ...   \n",
       "81       Royal Son      UV Protection Wayfarer Sunglasses (Free Size)  ₹664   \n",
       "82  FDA COLLECTION            Mirrored Aviator Sunglasses (Free Size)  ₹199   \n",
       "83  FDA COLLECTION               Mirrored Rectangular Sunglasses (52)  ₹188   \n",
       "84  Rozzetta Craft  UV Protection, Riding Glasses Rectangular Sung...  ₹398   \n",
       "85      Phenomenal  UV Protection Wayfarer, Sports, Shield, Rectan...  ₹399   \n",
       "\n",
       "   Discount  \n",
       "0   83% off  \n",
       "1   66% off  \n",
       "2   84% off  \n",
       "3   87% off  \n",
       "4   73% off  \n",
       "..      ...  \n",
       "81  66% off  \n",
       "82  84% off  \n",
       "83  87% off  \n",
       "84  73% off  \n",
       "85  80% off  \n",
       "\n",
       "[86 rows x 4 columns]"
      ]
     },
     "execution_count": 231,
     "metadata": {},
     "output_type": "execute_result"
    }
   ],
   "source": [
    "df5=pd.DataFrame({'Brand':brand[:86],'Description':des[:86],'Price':price[:86],'Discount':discount[:86]})\n",
    "df5"
   ]
  },
  {
   "cell_type": "markdown",
   "metadata": {},
   "source": [
    "# Question 7 Solution"
   ]
  },
  {
   "cell_type": "code",
   "execution_count": 232,
   "metadata": {},
   "outputs": [],
   "source": [
    "url='https://www.flipkart.com/apple-iphone-11-black-64-gb-includes-earpods-power-adapter/p/itm0f37c2240b217?pid=MOBFKCTSVZAXUHGR&lid=LSTMOBFKCTSVZAXUHGREPBFGI&marketplace'"
   ]
  },
  {
   "cell_type": "code",
   "execution_count": 233,
   "metadata": {},
   "outputs": [],
   "source": [
    "driver.get(url)"
   ]
  },
  {
   "cell_type": "code",
   "execution_count": 238,
   "metadata": {},
   "outputs": [],
   "source": [
    "rating=[]\n",
    "r_summary=[]\n",
    "review=[]"
   ]
  },
  {
   "cell_type": "code",
   "execution_count": 240,
   "metadata": {},
   "outputs": [],
   "source": [
    "driver.find_element_by_xpath(\"//*[@id='container']/div/div[3]/div[1]/div[2]/div[9]/div/div/div[5]/div/a/div/span\").click()"
   ]
  },
  {
   "cell_type": "code",
   "execution_count": 241,
   "metadata": {},
   "outputs": [],
   "source": [
    "start=0\n",
    "end=10\n",
    "\n",
    "for page in range(start,end):\n",
    "        next_button=driver.find_element_by_xpath(\"//*[@id='container']/div/div[3]/div/div/div[2]/div[13]/div/div/nav/a[11]/span\")\n",
    "\n",
    "    \n",
    "        r=driver.find_elements_by_xpath(\"//img[@class='_1wB99o']\")\n",
    "        for i in r:\n",
    "            rating.append(i.text)\n",
    "        s=driver.find_elements_by_xpath(\"//p[@class='_2-N8zT']\")\n",
    "        for i in s:\n",
    "            r_summary.append(i.text)\n",
    "        re=driver.find_elements_by_xpath(\"//div[@class='t-ZTKy']\")\n",
    "        for i in re:\n",
    "            review.append(i.text)\n",
    "        \n",
    "        \n",
    "        if next_button.text=='next':\n",
    "            next_button.click()\n",
    "            time.sleep(10)\n",
    "    \n",
    "\n",
    "            "
   ]
  },
  {
   "cell_type": "code",
   "execution_count": 242,
   "metadata": {},
   "outputs": [
    {
     "name": "stdout",
     "output_type": "stream",
     "text": [
      "110 100 100\n"
     ]
    }
   ],
   "source": [
    "print(len(rating),len(r_summary),len(review))"
   ]
  },
  {
   "cell_type": "code",
   "execution_count": 243,
   "metadata": {},
   "outputs": [
    {
     "data": {
      "text/html": [
       "<div>\n",
       "<style scoped>\n",
       "    .dataframe tbody tr th:only-of-type {\n",
       "        vertical-align: middle;\n",
       "    }\n",
       "\n",
       "    .dataframe tbody tr th {\n",
       "        vertical-align: top;\n",
       "    }\n",
       "\n",
       "    .dataframe thead th {\n",
       "        text-align: right;\n",
       "    }\n",
       "</style>\n",
       "<table border=\"1\" class=\"dataframe\">\n",
       "  <thead>\n",
       "    <tr style=\"text-align: right;\">\n",
       "      <th></th>\n",
       "      <th>rating</th>\n",
       "      <th>review summary</th>\n",
       "      <th>review</th>\n",
       "    </tr>\n",
       "  </thead>\n",
       "  <tbody>\n",
       "    <tr>\n",
       "      <th>0</th>\n",
       "      <td></td>\n",
       "      <td>Perfect product!</td>\n",
       "      <td>Amazing phone with great cameras and better ba...</td>\n",
       "    </tr>\n",
       "    <tr>\n",
       "      <th>1</th>\n",
       "      <td></td>\n",
       "      <td>Great product</td>\n",
       "      <td>Amazing Powerful and Durable Gadget.\\n\\nI’m am...</td>\n",
       "    </tr>\n",
       "    <tr>\n",
       "      <th>2</th>\n",
       "      <td></td>\n",
       "      <td>Perfect product!</td>\n",
       "      <td>It’s a must buy who is looking for an upgrade ...</td>\n",
       "    </tr>\n",
       "    <tr>\n",
       "      <th>3</th>\n",
       "      <td></td>\n",
       "      <td>Highly recommended</td>\n",
       "      <td>iphone 11 is a very good phone to buy only if ...</td>\n",
       "    </tr>\n",
       "    <tr>\n",
       "      <th>4</th>\n",
       "      <td></td>\n",
       "      <td>Perfect product!</td>\n",
       "      <td>Value for money❤️❤️\\nIts awesome mobile phone ...</td>\n",
       "    </tr>\n",
       "    <tr>\n",
       "      <th>...</th>\n",
       "      <td>...</td>\n",
       "      <td>...</td>\n",
       "      <td>...</td>\n",
       "    </tr>\n",
       "    <tr>\n",
       "      <th>94</th>\n",
       "      <td></td>\n",
       "      <td>Perfect product!</td>\n",
       "      <td>Value for money❤️❤️\\nIts awesome mobile phone ...</td>\n",
       "    </tr>\n",
       "    <tr>\n",
       "      <th>95</th>\n",
       "      <td></td>\n",
       "      <td>Worth every penny</td>\n",
       "      <td>Best budget Iphone till date ❤️ go for it guys...</td>\n",
       "    </tr>\n",
       "    <tr>\n",
       "      <th>96</th>\n",
       "      <td></td>\n",
       "      <td>Worth every penny</td>\n",
       "      <td>It’s been almost a month since I have been usi...</td>\n",
       "    </tr>\n",
       "    <tr>\n",
       "      <th>97</th>\n",
       "      <td></td>\n",
       "      <td>Perfect product!</td>\n",
       "      <td>Iphone is just awesome.. battery backup is ver...</td>\n",
       "    </tr>\n",
       "    <tr>\n",
       "      <th>98</th>\n",
       "      <td></td>\n",
       "      <td>Nice product</td>\n",
       "      <td>Awesome Phone. Slightly high price but worth. ...</td>\n",
       "    </tr>\n",
       "  </tbody>\n",
       "</table>\n",
       "<p>99 rows × 3 columns</p>\n",
       "</div>"
      ],
      "text/plain": [
       "   rating      review summary  \\\n",
       "0            Perfect product!   \n",
       "1               Great product   \n",
       "2            Perfect product!   \n",
       "3          Highly recommended   \n",
       "4            Perfect product!   \n",
       "..    ...                 ...   \n",
       "94           Perfect product!   \n",
       "95          Worth every penny   \n",
       "96          Worth every penny   \n",
       "97           Perfect product!   \n",
       "98               Nice product   \n",
       "\n",
       "                                               review  \n",
       "0   Amazing phone with great cameras and better ba...  \n",
       "1   Amazing Powerful and Durable Gadget.\\n\\nI’m am...  \n",
       "2   It’s a must buy who is looking for an upgrade ...  \n",
       "3   iphone 11 is a very good phone to buy only if ...  \n",
       "4   Value for money❤️❤️\\nIts awesome mobile phone ...  \n",
       "..                                                ...  \n",
       "94  Value for money❤️❤️\\nIts awesome mobile phone ...  \n",
       "95  Best budget Iphone till date ❤️ go for it guys...  \n",
       "96  It’s been almost a month since I have been usi...  \n",
       "97  Iphone is just awesome.. battery backup is ver...  \n",
       "98  Awesome Phone. Slightly high price but worth. ...  \n",
       "\n",
       "[99 rows x 3 columns]"
      ]
     },
     "execution_count": 243,
     "metadata": {},
     "output_type": "execute_result"
    }
   ],
   "source": [
    "df6=pd.DataFrame({'rating':rating[:99],'review summary':r_summary[:99],'review':review[:99]})\n",
    "df6"
   ]
  },
  {
   "cell_type": "markdown",
   "metadata": {},
   "source": [
    "# Question 8 Solution"
   ]
  },
  {
   "cell_type": "code",
   "execution_count": 244,
   "metadata": {},
   "outputs": [],
   "source": [
    "url='https://www.flipkart.com/'"
   ]
  },
  {
   "cell_type": "code",
   "execution_count": 245,
   "metadata": {},
   "outputs": [],
   "source": [
    "driver.get(url)"
   ]
  },
  {
   "cell_type": "code",
   "execution_count": 246,
   "metadata": {},
   "outputs": [],
   "source": [
    "driver.find_element_by_xpath(\"//input[@class='_3704LK']\").send_keys('sneakers')"
   ]
  },
  {
   "cell_type": "code",
   "execution_count": 248,
   "metadata": {},
   "outputs": [],
   "source": [
    "driver.find_element_by_xpath(\"//button[@class='L0Z3Pu']\").click()"
   ]
  },
  {
   "cell_type": "code",
   "execution_count": 249,
   "metadata": {},
   "outputs": [],
   "source": [
    "brand=[]\n",
    "des=[]\n",
    "price=[]\n",
    "discount=[]"
   ]
  },
  {
   "cell_type": "code",
   "execution_count": 250,
   "metadata": {},
   "outputs": [],
   "source": [
    "start=0\n",
    "end=3\n",
    "\n",
    "for page in range(start,end):\n",
    "        next_button=driver.find_element_by_xpath(\"//*[@id='container']/div/div[3]/div[2]/div[1]/div[2]/div[12]/div/div/nav/a[11]/span\")\n",
    "\n",
    "    \n",
    "        b=driver.find_elements_by_xpath(\"//div[@class='_2WkVRV']\")\n",
    "        for i in b:\n",
    "            brand.append(i.text)\n",
    "        s=driver.find_elements_by_xpath(\"//a[@class='IRpwTa']\")\n",
    "        for i in s:\n",
    "            des.append(i.text)\n",
    "        p=driver.find_elements_by_xpath(\"//div[@class='_30jeq3']\")\n",
    "        for i in p:\n",
    "            price.append(i.text)\n",
    "        d=driver.find_elements_by_xpath(\"//div[@class='_3Ay6Sb']\")\n",
    "        for i in d:\n",
    "            discount.append(i.text)\n",
    "        \n",
    "        \n",
    "        if next_button.text=='next':\n",
    "            next_button.click()\n",
    "            time.sleep(3)\n",
    "    \n",
    "\n",
    "            "
   ]
  },
  {
   "cell_type": "code",
   "execution_count": 251,
   "metadata": {},
   "outputs": [
    {
     "name": "stdout",
     "output_type": "stream",
     "text": [
      "120 105 120 120\n"
     ]
    }
   ],
   "source": [
    "print(len(brand),len(des),len(price),len(discount))"
   ]
  },
  {
   "cell_type": "code",
   "execution_count": 252,
   "metadata": {},
   "outputs": [
    {
     "data": {
      "text/html": [
       "<div>\n",
       "<style scoped>\n",
       "    .dataframe tbody tr th:only-of-type {\n",
       "        vertical-align: middle;\n",
       "    }\n",
       "\n",
       "    .dataframe tbody tr th {\n",
       "        vertical-align: top;\n",
       "    }\n",
       "\n",
       "    .dataframe thead th {\n",
       "        text-align: right;\n",
       "    }\n",
       "</style>\n",
       "<table border=\"1\" class=\"dataframe\">\n",
       "  <thead>\n",
       "    <tr style=\"text-align: right;\">\n",
       "      <th></th>\n",
       "      <th>Brand</th>\n",
       "      <th>Description</th>\n",
       "      <th>Price</th>\n",
       "      <th>Discount</th>\n",
       "    </tr>\n",
       "  </thead>\n",
       "  <tbody>\n",
       "    <tr>\n",
       "      <th>0</th>\n",
       "      <td>WHITE WALKERS</td>\n",
       "      <td>Puma Smash v2 SL one8 Sneakers For Men</td>\n",
       "      <td>₹499</td>\n",
       "      <td>50% off</td>\n",
       "    </tr>\n",
       "    <tr>\n",
       "      <th>1</th>\n",
       "      <td>Puma</td>\n",
       "      <td>Combo Pack of 4 Casual Sneakers With Sneakers ...</td>\n",
       "      <td>₹2,199</td>\n",
       "      <td>45% off</td>\n",
       "    </tr>\n",
       "    <tr>\n",
       "      <th>2</th>\n",
       "      <td>Chevit</td>\n",
       "      <td>171 Smart Tan Lace-Ups Casuals for Men Sneaker...</td>\n",
       "      <td>₹679</td>\n",
       "      <td>65% off</td>\n",
       "    </tr>\n",
       "    <tr>\n",
       "      <th>3</th>\n",
       "      <td>Chevit</td>\n",
       "      <td>445 Sports Shoes Sneakers For Men</td>\n",
       "      <td>₹236</td>\n",
       "      <td>52% off</td>\n",
       "    </tr>\n",
       "    <tr>\n",
       "      <th>4</th>\n",
       "      <td>Deny Brown</td>\n",
       "      <td>5011-Latest Collection Stylish Casual Loafer S...</td>\n",
       "      <td>₹375</td>\n",
       "      <td>24% off</td>\n",
       "    </tr>\n",
       "    <tr>\n",
       "      <th>...</th>\n",
       "      <td>...</td>\n",
       "      <td>...</td>\n",
       "      <td>...</td>\n",
       "      <td>...</td>\n",
       "    </tr>\n",
       "    <tr>\n",
       "      <th>95</th>\n",
       "      <td>Puma</td>\n",
       "      <td>Chevit Latest Fashion Combo Pack of 2 Pairs Ca...</td>\n",
       "      <td>₹2,269</td>\n",
       "      <td>35% off</td>\n",
       "    </tr>\n",
       "    <tr>\n",
       "      <th>96</th>\n",
       "      <td>Red Rose</td>\n",
       "      <td>Puma Smash v2 L Perf Puma White-Puma Whi Sneak...</td>\n",
       "      <td>₹350</td>\n",
       "      <td>64% off</td>\n",
       "    </tr>\n",
       "    <tr>\n",
       "      <th>97</th>\n",
       "      <td>Chevit</td>\n",
       "      <td>jeans shoes for men Sneakers For Men</td>\n",
       "      <td>₹570</td>\n",
       "      <td>61% off</td>\n",
       "    </tr>\n",
       "    <tr>\n",
       "      <th>98</th>\n",
       "      <td>Essence</td>\n",
       "      <td>Puma Smash v2 SL one8 Sneakers For Men</td>\n",
       "      <td>₹474</td>\n",
       "      <td>52% off</td>\n",
       "    </tr>\n",
       "    <tr>\n",
       "      <th>99</th>\n",
       "      <td>REFOAM</td>\n",
       "      <td>169 Smart Sky Blue Lace-Ups Casuals for Men Sn...</td>\n",
       "      <td>₹597</td>\n",
       "      <td>70% off</td>\n",
       "    </tr>\n",
       "  </tbody>\n",
       "</table>\n",
       "<p>100 rows × 4 columns</p>\n",
       "</div>"
      ],
      "text/plain": [
       "            Brand                                        Description   Price  \\\n",
       "0   WHITE WALKERS             Puma Smash v2 SL one8 Sneakers For Men    ₹499   \n",
       "1            Puma  Combo Pack of 4 Casual Sneakers With Sneakers ...  ₹2,199   \n",
       "2          Chevit  171 Smart Tan Lace-Ups Casuals for Men Sneaker...    ₹679   \n",
       "3          Chevit                  445 Sports Shoes Sneakers For Men    ₹236   \n",
       "4      Deny Brown  5011-Latest Collection Stylish Casual Loafer S...    ₹375   \n",
       "..            ...                                                ...     ...   \n",
       "95           Puma  Chevit Latest Fashion Combo Pack of 2 Pairs Ca...  ₹2,269   \n",
       "96       Red Rose  Puma Smash v2 L Perf Puma White-Puma Whi Sneak...    ₹350   \n",
       "97         Chevit               jeans shoes for men Sneakers For Men    ₹570   \n",
       "98        Essence             Puma Smash v2 SL one8 Sneakers For Men    ₹474   \n",
       "99         REFOAM  169 Smart Sky Blue Lace-Ups Casuals for Men Sn...    ₹597   \n",
       "\n",
       "   Discount  \n",
       "0   50% off  \n",
       "1   45% off  \n",
       "2   65% off  \n",
       "3   52% off  \n",
       "4   24% off  \n",
       "..      ...  \n",
       "95  35% off  \n",
       "96  64% off  \n",
       "97  61% off  \n",
       "98  52% off  \n",
       "99  70% off  \n",
       "\n",
       "[100 rows x 4 columns]"
      ]
     },
     "execution_count": 252,
     "metadata": {},
     "output_type": "execute_result"
    }
   ],
   "source": [
    "df7=pd.DataFrame({'Brand':brand[:100],'Description':des[:100],'Price':price[:100],'Discount':discount[:100]})\n",
    "df7"
   ]
  },
  {
   "cell_type": "markdown",
   "metadata": {},
   "source": [
    "# Question 9 solution"
   ]
  },
  {
   "cell_type": "code",
   "execution_count": 253,
   "metadata": {},
   "outputs": [],
   "source": [
    "url='https://www.myntra.com/shoes'"
   ]
  },
  {
   "cell_type": "code",
   "execution_count": 254,
   "metadata": {},
   "outputs": [],
   "source": [
    "driver.get(url)"
   ]
  },
  {
   "cell_type": "code",
   "execution_count": 255,
   "metadata": {},
   "outputs": [],
   "source": [
    "#applying the filter\n",
    "driver.find_element_by_xpath(\"//*[@id='mountRoot']/div/div[1]/main/div[3]/div[1]/section/div/div[5]/ul/li[2]/label\").click()"
   ]
  },
  {
   "cell_type": "code",
   "execution_count": 256,
   "metadata": {},
   "outputs": [],
   "source": [
    "driver.find_element_by_xpath(\"//*[@id='mountRoot']/div/div[1]/main/div[3]/div[1]/section/div/div[6]/ul/li[1]/label\").click()"
   ]
  },
  {
   "cell_type": "code",
   "execution_count": 257,
   "metadata": {},
   "outputs": [],
   "source": [
    "brand=[]\n",
    "des=[]\n",
    "price=[]"
   ]
  },
  {
   "cell_type": "code",
   "execution_count": 258,
   "metadata": {},
   "outputs": [],
   "source": [
    "start=0\n",
    "end=2\n",
    "\n",
    "for page in range(start,end):\n",
    "        next_button=driver.find_element_by_xpath(\"//*[@id='desktopSearchResults']/div[2]/section/div[2]/ul/li[12]/a\")\n",
    "\n",
    "    \n",
    "        b=driver.find_elements_by_xpath(\"//h3[@class='product-brand']\")\n",
    "        for i in b:\n",
    "            brand.append(i.text)\n",
    "        s=driver.find_elements_by_xpath(\"//h4[@class='product-product']\")\n",
    "        for i in s:\n",
    "            des.append(i.text)\n",
    "        p=driver.find_elements_by_xpath(\"//div[@class='product-price']\")\n",
    "        for i in p:\n",
    "            price.append(i.text)\n",
    "       \n",
    "        \n",
    "        \n",
    "        if next_button.text=='next':\n",
    "            next_button.click()\n",
    "            time.sleep(2)\n",
    "    \n",
    "\n",
    "            "
   ]
  },
  {
   "cell_type": "code",
   "execution_count": 259,
   "metadata": {},
   "outputs": [
    {
     "name": "stdout",
     "output_type": "stream",
     "text": [
      "100 100 100\n"
     ]
    }
   ],
   "source": [
    "print(len(brand),len(des),len(price))"
   ]
  },
  {
   "cell_type": "code",
   "execution_count": 260,
   "metadata": {},
   "outputs": [
    {
     "data": {
      "text/html": [
       "<div>\n",
       "<style scoped>\n",
       "    .dataframe tbody tr th:only-of-type {\n",
       "        vertical-align: middle;\n",
       "    }\n",
       "\n",
       "    .dataframe tbody tr th {\n",
       "        vertical-align: top;\n",
       "    }\n",
       "\n",
       "    .dataframe thead th {\n",
       "        text-align: right;\n",
       "    }\n",
       "</style>\n",
       "<table border=\"1\" class=\"dataframe\">\n",
       "  <thead>\n",
       "    <tr style=\"text-align: right;\">\n",
       "      <th></th>\n",
       "      <th>Brand</th>\n",
       "      <th>Description</th>\n",
       "      <th>Price</th>\n",
       "    </tr>\n",
       "  </thead>\n",
       "  <tbody>\n",
       "    <tr>\n",
       "      <th>0</th>\n",
       "      <td>Nike</td>\n",
       "      <td>Men AIR ZOOM Running Shoes</td>\n",
       "      <td>Rs. 11995</td>\n",
       "    </tr>\n",
       "    <tr>\n",
       "      <th>1</th>\n",
       "      <td>Nike</td>\n",
       "      <td>Men FREE RN 5.0 Running Shoes</td>\n",
       "      <td>Rs. 7995</td>\n",
       "    </tr>\n",
       "    <tr>\n",
       "      <th>2</th>\n",
       "      <td>Tommy Hilfiger</td>\n",
       "      <td>Men Solid Loafers</td>\n",
       "      <td>Rs. 8599</td>\n",
       "    </tr>\n",
       "    <tr>\n",
       "      <th>3</th>\n",
       "      <td>ADIDAS Originals</td>\n",
       "      <td>Stan Smith Leather Sneakers</td>\n",
       "      <td>Rs. 7999</td>\n",
       "    </tr>\n",
       "    <tr>\n",
       "      <th>4</th>\n",
       "      <td>Nike</td>\n",
       "      <td>PEGASUS FLYEASE Running Shoes</td>\n",
       "      <td>Rs. 9995</td>\n",
       "    </tr>\n",
       "    <tr>\n",
       "      <th>...</th>\n",
       "      <td>...</td>\n",
       "      <td>...</td>\n",
       "      <td>...</td>\n",
       "    </tr>\n",
       "    <tr>\n",
       "      <th>95</th>\n",
       "      <td>Puma</td>\n",
       "      <td>Men SPEED 500 2 Running Shoes</td>\n",
       "      <td>Rs. 9499Rs. 9999(5% OFF)</td>\n",
       "    </tr>\n",
       "    <tr>\n",
       "      <th>96</th>\n",
       "      <td>ADIDAS Originals</td>\n",
       "      <td>Women Sonkei Sneakers</td>\n",
       "      <td>Rs. 7999</td>\n",
       "    </tr>\n",
       "    <tr>\n",
       "      <th>97</th>\n",
       "      <td>Geox</td>\n",
       "      <td>Women Leather Flat Boots</td>\n",
       "      <td>Rs. 12999</td>\n",
       "    </tr>\n",
       "    <tr>\n",
       "      <th>98</th>\n",
       "      <td>Geox</td>\n",
       "      <td>Women Leather Slip-Ons</td>\n",
       "      <td>Rs. 8990</td>\n",
       "    </tr>\n",
       "    <tr>\n",
       "      <th>99</th>\n",
       "      <td>ADIDAS Originals</td>\n",
       "      <td>Men NMD R1Sneakers</td>\n",
       "      <td>Rs. 12999</td>\n",
       "    </tr>\n",
       "  </tbody>\n",
       "</table>\n",
       "<p>100 rows × 3 columns</p>\n",
       "</div>"
      ],
      "text/plain": [
       "               Brand                    Description                     Price\n",
       "0               Nike     Men AIR ZOOM Running Shoes                 Rs. 11995\n",
       "1               Nike  Men FREE RN 5.0 Running Shoes                  Rs. 7995\n",
       "2     Tommy Hilfiger              Men Solid Loafers                  Rs. 8599\n",
       "3   ADIDAS Originals    Stan Smith Leather Sneakers                  Rs. 7999\n",
       "4               Nike  PEGASUS FLYEASE Running Shoes                  Rs. 9995\n",
       "..               ...                            ...                       ...\n",
       "95              Puma  Men SPEED 500 2 Running Shoes  Rs. 9499Rs. 9999(5% OFF)\n",
       "96  ADIDAS Originals          Women Sonkei Sneakers                  Rs. 7999\n",
       "97              Geox       Women Leather Flat Boots                 Rs. 12999\n",
       "98              Geox         Women Leather Slip-Ons                  Rs. 8990\n",
       "99  ADIDAS Originals             Men NMD R1Sneakers                 Rs. 12999\n",
       "\n",
       "[100 rows x 3 columns]"
      ]
     },
     "execution_count": 260,
     "metadata": {},
     "output_type": "execute_result"
    }
   ],
   "source": [
    "df8=pd.DataFrame({'Brand':brand[:100],'Description':des[:100],'Price':price[:100]})\n",
    "df8"
   ]
  },
  {
   "cell_type": "markdown",
   "metadata": {},
   "source": [
    "# Question 10 Solution"
   ]
  },
  {
   "cell_type": "code",
   "execution_count": 275,
   "metadata": {},
   "outputs": [],
   "source": [
    "url='https://www.amazon.in/'"
   ]
  },
  {
   "cell_type": "code",
   "execution_count": 276,
   "metadata": {},
   "outputs": [],
   "source": [
    "driver.get(url)"
   ]
  },
  {
   "cell_type": "code",
   "execution_count": 277,
   "metadata": {},
   "outputs": [],
   "source": [
    "#searcing the laptop\n",
    "driver.find_element_by_xpath(\"//input[@id='twotabsearchtextbox']\").send_keys('laptop')\n"
   ]
  },
  {
   "cell_type": "code",
   "execution_count": 278,
   "metadata": {},
   "outputs": [],
   "source": [
    "driver.find_element_by_xpath(\"//*[@id='nav-search-submit-text']/input\").click()"
   ]
  },
  {
   "cell_type": "code",
   "execution_count": 279,
   "metadata": {},
   "outputs": [],
   "source": [
    "driver.find_element_by_xpath(\"//*[@id='p_n_feature_thirteen_browse-bin/16757432031']/span/a/span\").click()\n"
   ]
  },
  {
   "cell_type": "code",
   "execution_count": 301,
   "metadata": {},
   "outputs": [],
   "source": [
    "title=[]\n",
    "rating=[]\n",
    "price=[]"
   ]
  },
  {
   "cell_type": "code",
   "execution_count": 302,
   "metadata": {},
   "outputs": [],
   "source": [
    "t=driver.find_elements_by_xpath(\"//h2[@class='a-size-mini a-spacing-none a-color-base s-line-clamp-2']\")\n",
    "for i in t:\n",
    "    title.append(i.text)\n",
    "r=driver.find_elements_by_xpath(\"//i[@class='a-icon a-icon-star-small a-star-small-3 aok-align-bottom']\")\n",
    "for i in r:\n",
    "    rating.append(i.text)\n",
    "p=driver.find_elements_by_xpath(\"//span[@class='a-price-whole']\")\n",
    "for i in p:\n",
    "    price.append(i.text)"
   ]
  },
  {
   "cell_type": "code",
   "execution_count": 303,
   "metadata": {},
   "outputs": [
    {
     "name": "stdout",
     "output_type": "stream",
     "text": [
      "21 2 12\n"
     ]
    }
   ],
   "source": [
    "print(len(title),len(rating),len(price))"
   ]
  },
  {
   "cell_type": "code",
   "execution_count": null,
   "metadata": {},
   "outputs": [],
   "source": []
  }
 ],
 "metadata": {
  "kernelspec": {
   "display_name": "Python 3",
   "language": "python",
   "name": "python3"
  },
  "language_info": {
   "codemirror_mode": {
    "name": "ipython",
    "version": 3
   },
   "file_extension": ".py",
   "mimetype": "text/x-python",
   "name": "python",
   "nbconvert_exporter": "python",
   "pygments_lexer": "ipython3",
   "version": "3.7.6"
  }
 },
 "nbformat": 4,
 "nbformat_minor": 4
}
