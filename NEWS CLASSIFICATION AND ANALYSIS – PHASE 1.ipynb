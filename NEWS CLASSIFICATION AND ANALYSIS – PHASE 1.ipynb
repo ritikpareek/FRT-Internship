{
 "cells": [
  {
   "cell_type": "code",
   "execution_count": 2,
   "metadata": {},
   "outputs": [],
   "source": [
    "# importing the libraries\n",
    "import selenium\n",
    "from selenium import webdriver\n",
    "from selenium.common.exceptions import NoSuchElementException,StaleElementReferenceException,ElementNotVisibleException,ElementNotInteractableException\n",
    "import pandas as pd\n",
    "import numpy as np\n",
    "import time\n",
    "from selenium.webdriver.support.ui import WebDriverWait\n",
    "from selenium.webdriver.support import expected_conditions as EC\n",
    "from selenium.webdriver.common.by import By"
   ]
  },
  {
   "cell_type": "code",
   "execution_count": 3,
   "metadata": {},
   "outputs": [],
   "source": [
    "driver=webdriver.Chrome('chromedriver.exe')"
   ]
  },
  {
   "cell_type": "code",
   "execution_count": 4,
   "metadata": {},
   "outputs": [],
   "source": [
    "url='https://www.deccanherald.com/sitemap/detail/year/2016-1'\n",
    "driver.get(url)"
   ]
  },
  {
   "cell_type": "code",
   "execution_count": 5,
   "metadata": {},
   "outputs": [],
   "source": [
    "link1=driver.find_elements_by_xpath(\"//*[@id='main-content']/div/ul/li/a\")"
   ]
  },
  {
   "cell_type": "code",
   "execution_count": 6,
   "metadata": {},
   "outputs": [
    {
     "data": {
      "text/plain": [
       "['https://www.deccanherald.com/sitemap/detail/days/2016-01-01',\n",
       " 'https://www.deccanherald.com/sitemap/detail/days/2016-01-02',\n",
       " 'https://www.deccanherald.com/sitemap/detail/days/2016-01-03',\n",
       " 'https://www.deccanherald.com/sitemap/detail/days/2016-01-04',\n",
       " 'https://www.deccanherald.com/sitemap/detail/days/2016-01-05',\n",
       " 'https://www.deccanherald.com/sitemap/detail/days/2016-01-06',\n",
       " 'https://www.deccanherald.com/sitemap/detail/days/2016-01-07',\n",
       " 'https://www.deccanherald.com/sitemap/detail/days/2016-01-08',\n",
       " 'https://www.deccanherald.com/sitemap/detail/days/2016-01-09',\n",
       " 'https://www.deccanherald.com/sitemap/detail/days/2016-01-10',\n",
       " 'https://www.deccanherald.com/sitemap/detail/days/2016-01-11',\n",
       " 'https://www.deccanherald.com/sitemap/detail/days/2016-01-12',\n",
       " 'https://www.deccanherald.com/sitemap/detail/days/2016-01-13',\n",
       " 'https://www.deccanherald.com/sitemap/detail/days/2016-01-14',\n",
       " 'https://www.deccanherald.com/sitemap/detail/days/2016-01-15',\n",
       " 'https://www.deccanherald.com/sitemap/detail/days/2016-01-16',\n",
       " 'https://www.deccanherald.com/sitemap/detail/days/2016-01-17',\n",
       " 'https://www.deccanherald.com/sitemap/detail/days/2016-01-18',\n",
       " 'https://www.deccanherald.com/sitemap/detail/days/2016-01-19',\n",
       " 'https://www.deccanherald.com/sitemap/detail/days/2016-01-20',\n",
       " 'https://www.deccanherald.com/sitemap/detail/days/2016-01-21',\n",
       " 'https://www.deccanherald.com/sitemap/detail/days/2016-01-22',\n",
       " 'https://www.deccanherald.com/sitemap/detail/days/2016-01-23',\n",
       " 'https://www.deccanherald.com/sitemap/detail/days/2016-01-24',\n",
       " 'https://www.deccanherald.com/sitemap/detail/days/2016-01-25',\n",
       " 'https://www.deccanherald.com/sitemap/detail/days/2016-01-26',\n",
       " 'https://www.deccanherald.com/sitemap/detail/days/2016-01-27',\n",
       " 'https://www.deccanherald.com/sitemap/detail/days/2016-01-28',\n",
       " 'https://www.deccanherald.com/sitemap/detail/days/2016-01-29',\n",
       " 'https://www.deccanherald.com/sitemap/detail/days/2016-01-30',\n",
       " 'https://www.deccanherald.com/sitemap/detail/days/2016-01-31']"
      ]
     },
     "execution_count": 6,
     "metadata": {},
     "output_type": "execute_result"
    }
   ],
   "source": [
    "link=[]\n",
    "for m in link1:\n",
    "    link.append(m.get_attribute('href'))\n",
    "link\n"
   ]
  },
  {
   "cell_type": "code",
   "execution_count": 7,
   "metadata": {},
   "outputs": [],
   "source": [
    "date=[]\n",
    "title=[]\n",
    "des1=[]\n",
    "des=[]\n",
    "author=[]\n",
    "vertical=[]"
   ]
  },
  {
   "cell_type": "code",
   "execution_count": 8,
   "metadata": {},
   "outputs": [],
   "source": [
    "\n",
    "link2=[]\n",
    "for url in link:\n",
    "    \n",
    "    driver.get(url)\n",
    "    \n",
    "\n",
    "    for n in driver.find_elements_by_xpath(\"//*[@id='main-content']/div/div/ul/li/a\"):\n",
    "        link2.append(n.get_attribute('href'))\n",
    "                "
   ]
  },
  {
   "cell_type": "code",
   "execution_count": 9,
   "metadata": {},
   "outputs": [
    {
     "data": {
      "text/plain": [
       "5111"
      ]
     },
     "execution_count": 9,
     "metadata": {},
     "output_type": "execute_result"
    }
   ],
   "source": [
    "len(link2)"
   ]
  },
  {
   "cell_type": "code",
   "execution_count": 10,
   "metadata": {},
   "outputs": [],
   "source": [
    "list1=link2[0:1000]"
   ]
  },
  {
   "cell_type": "code",
   "execution_count": 11,
   "metadata": {},
   "outputs": [],
   "source": [
    "\n",
    "for url2 in list1:\n",
    "        driver.get(url2)\n",
    "        for i in driver.find_elements_by_xpath(\"//*[@id='page-title']\"):\n",
    "            title.append(i.text)\n",
    "        for k in driver.find_elements_by_xpath(\"//div[@class='field field-name-body field-type-text-with-summary field-label-hidden']\"):\n",
    "            des1.append(k.text)\n",
    "        for p in driver.find_elements_by_xpath(\"//*[@id='main-wrapper']/div/div/div[3]/div[2]/ul/li[1]\"):\n",
    "            date.append(p.text)\n",
    "        for o in driver.find_elements_by_xpath(\"//*[@id='main-wrapper']/div/div/div[3]/div[2]/span\"):\n",
    "            author.append(o.text)\n",
    "        for l in driver.find_elements_by_xpath(\"//*[@id='breadcrumb-wrapper']/div/div/ul/li[2]/a\"):\n",
    "            vertical.append(l.text)\n",
    "        \n",
    "                "
   ]
  },
  {
   "cell_type": "code",
   "execution_count": 12,
   "metadata": {},
   "outputs": [],
   "source": [
    "list2=link2[1000:2000]"
   ]
  },
  {
   "cell_type": "code",
   "execution_count": 13,
   "metadata": {},
   "outputs": [],
   "source": [
    "\n",
    "for url2 in list2:\n",
    "        driver.get(url2)\n",
    "        for i in driver.find_elements_by_xpath(\"//*[@id='page-title']\"):\n",
    "            title.append(i.text)\n",
    "        for k in driver.find_elements_by_xpath(\"//div[@class='field field-name-body field-type-text-with-summary field-label-hidden']\"):\n",
    "            des1.append(k.text)\n",
    "        for p in driver.find_elements_by_xpath(\"//*[@id='main-wrapper']/div/div/div[3]/div[2]/ul/li[1]\"):\n",
    "            date.append(p.text)\n",
    "        for o in driver.find_elements_by_xpath(\"//*[@id='main-wrapper']/div/div/div[3]/div[2]/span\"):\n",
    "            author.append(o.text)\n",
    "        for l in driver.find_elements_by_xpath(\"//*[@id='breadcrumb-wrapper']/div/div/ul/li[2]/a\"):\n",
    "            vertical.append(l.text)\n",
    "        \n",
    "                "
   ]
  },
  {
   "cell_type": "code",
   "execution_count": 14,
   "metadata": {},
   "outputs": [],
   "source": [
    "list3=link2[2000:3000]\n",
    "list4=link2[3000:4000]\n",
    "list5=link2[4000:5111]"
   ]
  },
  {
   "cell_type": "code",
   "execution_count": 15,
   "metadata": {},
   "outputs": [],
   "source": [
    "\n",
    "for url2 in list3:\n",
    "        driver.get(url2)\n",
    "        for i in driver.find_elements_by_xpath(\"//*[@id='page-title']\"):\n",
    "            title.append(i.text)\n",
    "        for k in driver.find_elements_by_xpath(\"//div[@class='field field-name-body field-type-text-with-summary field-label-hidden']\"):\n",
    "            des1.append(k.text)\n",
    "        for p in driver.find_elements_by_xpath(\"//*[@id='main-wrapper']/div/div/div[3]/div[2]/ul/li[1]\"):\n",
    "            date.append(p.text)\n",
    "        for o in driver.find_elements_by_xpath(\"//*[@id='main-wrapper']/div/div/div[3]/div[2]/span\"):\n",
    "            author.append(o.text)\n",
    "        for l in driver.find_elements_by_xpath(\"//*[@id='breadcrumb-wrapper']/div/div/ul/li[2]/a\"):\n",
    "            vertical.append(l.text)\n",
    "        \n",
    "                "
   ]
  },
  {
   "cell_type": "code",
   "execution_count": 22,
   "metadata": {},
   "outputs": [],
   "source": [
    "\n",
    "for url2 in list4:\n",
    "        driver.get(url2)\n",
    "        for i in driver.find_elements_by_xpath(\"//*[@id='page-title']\"):\n",
    "            title.append(i.text)\n",
    "        for k in driver.find_elements_by_xpath(\"//div[@class='field field-name-body field-type-text-with-summary field-label-hidden']\"):\n",
    "            des1.append(k.text)\n",
    "        for p in driver.find_elements_by_xpath(\"//*[@id='main-wrapper']/div/div/div[3]/div[2]/ul/li[1]\"):\n",
    "            date.append(p.text)\n",
    "        for o in driver.find_elements_by_xpath(\"//*[@id='main-wrapper']/div/div/div[3]/div[2]/span\"):\n",
    "            author.append(o.text)\n",
    "        for l in driver.find_elements_by_xpath(\"//*[@id='breadcrumb-wrapper']/div/div/ul/li[2]/a\"):\n",
    "            vertical.append(l.text)\n",
    "        \n",
    "                "
   ]
  },
  {
   "cell_type": "code",
   "execution_count": 29,
   "metadata": {},
   "outputs": [],
   "source": [
    "\n",
    "for url2 in list5:\n",
    "        driver.get(url2)\n",
    "        for i in driver.find_elements_by_xpath(\"//*[@id='page-title']\"):\n",
    "            title.append(i.text)\n",
    "        for k in driver.find_elements_by_xpath(\"//div[@class='field field-name-body field-type-text-with-summary field-label-hidden']\"):\n",
    "            des1.append(k.text)\n",
    "        for p in driver.find_elements_by_xpath(\"//*[@id='main-wrapper']/div/div/div[3]/div[2]/ul/li[1]\"):\n",
    "            date.append(p.text)\n",
    "        for o in driver.find_elements_by_xpath(\"//*[@id='main-wrapper']/div/div/div[3]/div[2]/span\"):\n",
    "            author.append(o.text)\n",
    "        for l in driver.find_elements_by_xpath(\"//*[@id='breadcrumb-wrapper']/div/div/ul/li[2]/a\"):\n",
    "            vertical.append(l.text)\n",
    "        \n",
    "                "
   ]
  },
  {
   "cell_type": "code",
   "execution_count": 30,
   "metadata": {},
   "outputs": [
    {
     "data": {
      "text/plain": [
       "5111"
      ]
     },
     "execution_count": 30,
     "metadata": {},
     "output_type": "execute_result"
    }
   ],
   "source": [
    "len(des1)"
   ]
  },
  {
   "cell_type": "code",
   "execution_count": 31,
   "metadata": {},
   "outputs": [
    {
     "data": {
      "text/plain": [
       "5111"
      ]
     },
     "execution_count": 31,
     "metadata": {},
     "output_type": "execute_result"
    }
   ],
   "source": [
    "len(date)"
   ]
  },
  {
   "cell_type": "code",
   "execution_count": 32,
   "metadata": {},
   "outputs": [
    {
     "data": {
      "text/plain": [
       "5098"
      ]
     },
     "execution_count": 32,
     "metadata": {},
     "output_type": "execute_result"
    }
   ],
   "source": [
    "len(author)"
   ]
  },
  {
   "cell_type": "code",
   "execution_count": 33,
   "metadata": {},
   "outputs": [
    {
     "data": {
      "text/plain": [
       "5111"
      ]
     },
     "execution_count": 33,
     "metadata": {},
     "output_type": "execute_result"
    }
   ],
   "source": [
    "len(vertical)"
   ]
  },
  {
   "cell_type": "code",
   "execution_count": 34,
   "metadata": {},
   "outputs": [
    {
     "data": {
      "text/plain": [
       "5111"
      ]
     },
     "execution_count": 34,
     "metadata": {},
     "output_type": "execute_result"
    }
   ],
   "source": [
    "len(title)"
   ]
  },
  {
   "cell_type": "code",
   "execution_count": 36,
   "metadata": {},
   "outputs": [],
   "source": [
    "df1=pd.DataFrame({'date':date[:5098],'title':title[:5098],'vertical':vertical[:5098],'author':author[:5098],'description':des1[:5098]})"
   ]
  },
  {
   "cell_type": "code",
   "execution_count": 37,
   "metadata": {},
   "outputs": [
    {
     "data": {
      "text/html": [
       "<div>\n",
       "<style scoped>\n",
       "    .dataframe tbody tr th:only-of-type {\n",
       "        vertical-align: middle;\n",
       "    }\n",
       "\n",
       "    .dataframe tbody tr th {\n",
       "        vertical-align: top;\n",
       "    }\n",
       "\n",
       "    .dataframe thead th {\n",
       "        text-align: right;\n",
       "    }\n",
       "</style>\n",
       "<table border=\"1\" class=\"dataframe\">\n",
       "  <thead>\n",
       "    <tr style=\"text-align: right;\">\n",
       "      <th></th>\n",
       "      <th>date</th>\n",
       "      <th>title</th>\n",
       "      <th>vertical</th>\n",
       "      <th>author</th>\n",
       "      <th>description</th>\n",
       "    </tr>\n",
       "  </thead>\n",
       "  <tbody>\n",
       "    <tr>\n",
       "      <th>0</th>\n",
       "      <td>JAN 01 2016, 00:43 IST</td>\n",
       "      <td>Airtel acquires 100% stake in Augere</td>\n",
       "      <td>Business</td>\n",
       "      <td>New Delhi, Dec 31, 2015, PTI:,</td>\n",
       "      <td>Telecom major Bharti Airtel on Thursday said i...</td>\n",
       "    </tr>\n",
       "    <tr>\n",
       "      <th>1</th>\n",
       "      <td>JAN 01 2016, 00:46 IST</td>\n",
       "      <td>Funskool to play with own brands</td>\n",
       "      <td>Business</td>\n",
       "      <td>Hrithik Kiran Bagade, Bengaluru, Dec 31, 2015,...</td>\n",
       "      <td>Homegrown toy manufacturing giant Funskool is ...</td>\n",
       "    </tr>\n",
       "    <tr>\n",
       "      <th>2</th>\n",
       "      <td>JAN 01 2016, 00:48 IST</td>\n",
       "      <td>Car buyers to shell out more from today</td>\n",
       "      <td>Business</td>\n",
       "      <td>Mumbai, Dec 31, 2015, Agencies:,</td>\n",
       "      <td>Automobile manufacturers will raise prices fro...</td>\n",
       "    </tr>\n",
       "    <tr>\n",
       "      <th>3</th>\n",
       "      <td>JAN 01 2016, 00:51 IST</td>\n",
       "      <td>India's fiscal deficit touches 87%</td>\n",
       "      <td>Business</td>\n",
       "      <td>New Delhi, Dec 31, 2015, PTI:,</td>\n",
       "      <td>Fiscal deficit in the first eight months of th...</td>\n",
       "    </tr>\n",
       "    <tr>\n",
       "      <th>4</th>\n",
       "      <td>JAN 01 2016, 00:54 IST</td>\n",
       "      <td>Sensex clocks first loss in 4 years; trips 5% ...</td>\n",
       "      <td>Business</td>\n",
       "      <td>Mumbai, Dec 31, 2015, PTI:,</td>\n",
       "      <td>Clocking its worst performance in four years, ...</td>\n",
       "    </tr>\n",
       "  </tbody>\n",
       "</table>\n",
       "</div>"
      ],
      "text/plain": [
       "                     date                                              title  \\\n",
       "0  JAN 01 2016, 00:43 IST               Airtel acquires 100% stake in Augere   \n",
       "1  JAN 01 2016, 00:46 IST                   Funskool to play with own brands   \n",
       "2  JAN 01 2016, 00:48 IST            Car buyers to shell out more from today   \n",
       "3  JAN 01 2016, 00:51 IST                 India's fiscal deficit touches 87%   \n",
       "4  JAN 01 2016, 00:54 IST  Sensex clocks first loss in 4 years; trips 5% ...   \n",
       "\n",
       "   vertical                                             author  \\\n",
       "0  Business                     New Delhi, Dec 31, 2015, PTI:,   \n",
       "1  Business  Hrithik Kiran Bagade, Bengaluru, Dec 31, 2015,...   \n",
       "2  Business                   Mumbai, Dec 31, 2015, Agencies:,   \n",
       "3  Business                     New Delhi, Dec 31, 2015, PTI:,   \n",
       "4  Business                        Mumbai, Dec 31, 2015, PTI:,   \n",
       "\n",
       "                                         description  \n",
       "0  Telecom major Bharti Airtel on Thursday said i...  \n",
       "1  Homegrown toy manufacturing giant Funskool is ...  \n",
       "2  Automobile manufacturers will raise prices fro...  \n",
       "3  Fiscal deficit in the first eight months of th...  \n",
       "4  Clocking its worst performance in four years, ...  "
      ]
     },
     "execution_count": 37,
     "metadata": {},
     "output_type": "execute_result"
    }
   ],
   "source": [
    "df1.head()"
   ]
  },
  {
   "cell_type": "code",
   "execution_count": 38,
   "metadata": {},
   "outputs": [
    {
     "data": {
      "text/html": [
       "<div>\n",
       "<style scoped>\n",
       "    .dataframe tbody tr th:only-of-type {\n",
       "        vertical-align: middle;\n",
       "    }\n",
       "\n",
       "    .dataframe tbody tr th {\n",
       "        vertical-align: top;\n",
       "    }\n",
       "\n",
       "    .dataframe thead th {\n",
       "        text-align: right;\n",
       "    }\n",
       "</style>\n",
       "<table border=\"1\" class=\"dataframe\">\n",
       "  <thead>\n",
       "    <tr style=\"text-align: right;\">\n",
       "      <th></th>\n",
       "      <th>date</th>\n",
       "      <th>title</th>\n",
       "      <th>vertical</th>\n",
       "      <th>author</th>\n",
       "      <th>description</th>\n",
       "    </tr>\n",
       "  </thead>\n",
       "  <tbody>\n",
       "    <tr>\n",
       "      <th>5093</th>\n",
       "      <td>JAN 31 2016, 00:37 IST</td>\n",
       "      <td>When honchos debated over business innovations</td>\n",
       "      <td>State</td>\n",
       "      <td>Bengaluru,Jan 31, 2016, DHNS:,</td>\n",
       "      <td>The two-day national conference on “Disruptive...</td>\n",
       "    </tr>\n",
       "    <tr>\n",
       "      <th>5094</th>\n",
       "      <td>JAN 31 2016, 00:41 IST</td>\n",
       "      <td>Getting cops transferred a habit with Naik, sh...</td>\n",
       "      <td>State</td>\n",
       "      <td>Bengaluru: Feb 1, 2016, DHNS:,</td>\n",
       "      <td>Minister of State for Labour P T Parameshwar N...</td>\n",
       "    </tr>\n",
       "    <tr>\n",
       "      <th>5095</th>\n",
       "      <td>JAN 31 2016, 00:43 IST</td>\n",
       "      <td>Charges dropped against accused in Deccan Mini...</td>\n",
       "      <td>State</td>\n",
       "      <td>Kit Buchan, Feb 1, 2016,</td>\n",
       "      <td>A CBI special court on Saturday dropped charge...</td>\n",
       "    </tr>\n",
       "    <tr>\n",
       "      <th>5096</th>\n",
       "      <td>JAN 31 2016, 00:45 IST</td>\n",
       "      <td>Sack Naik from Cabinet: Poojary</td>\n",
       "      <td>State</td>\n",
       "      <td>Charles Arthur, Feb 1, 2016,</td>\n",
       "      <td>Former Union Minister and Congress leader B Ja...</td>\n",
       "    </tr>\n",
       "    <tr>\n",
       "      <th>5097</th>\n",
       "      <td>JAN 31 2016, 01:09 IST</td>\n",
       "      <td>Australia-India Youth Dialogue 2016 concludes</td>\n",
       "      <td>State</td>\n",
       "      <td>Feb 1, 2016, DHNS:,</td>\n",
       "      <td>The fifth Australia-India Youth Dialogue (AIYD...</td>\n",
       "    </tr>\n",
       "  </tbody>\n",
       "</table>\n",
       "</div>"
      ],
      "text/plain": [
       "                        date  \\\n",
       "5093  JAN 31 2016, 00:37 IST   \n",
       "5094  JAN 31 2016, 00:41 IST   \n",
       "5095  JAN 31 2016, 00:43 IST   \n",
       "5096  JAN 31 2016, 00:45 IST   \n",
       "5097  JAN 31 2016, 01:09 IST   \n",
       "\n",
       "                                                  title vertical  \\\n",
       "5093     When honchos debated over business innovations    State   \n",
       "5094  Getting cops transferred a habit with Naik, sh...    State   \n",
       "5095  Charges dropped against accused in Deccan Mini...    State   \n",
       "5096                    Sack Naik from Cabinet: Poojary    State   \n",
       "5097      Australia-India Youth Dialogue 2016 concludes    State   \n",
       "\n",
       "                              author  \\\n",
       "5093  Bengaluru,Jan 31, 2016, DHNS:,   \n",
       "5094  Bengaluru: Feb 1, 2016, DHNS:,   \n",
       "5095        Kit Buchan, Feb 1, 2016,   \n",
       "5096    Charles Arthur, Feb 1, 2016,   \n",
       "5097             Feb 1, 2016, DHNS:,   \n",
       "\n",
       "                                            description  \n",
       "5093  The two-day national conference on “Disruptive...  \n",
       "5094  Minister of State for Labour P T Parameshwar N...  \n",
       "5095  A CBI special court on Saturday dropped charge...  \n",
       "5096  Former Union Minister and Congress leader B Ja...  \n",
       "5097  The fifth Australia-India Youth Dialogue (AIYD...  "
      ]
     },
     "execution_count": 38,
     "metadata": {},
     "output_type": "execute_result"
    }
   ],
   "source": [
    "df1.tail()"
   ]
  },
  {
   "cell_type": "code",
   "execution_count": 39,
   "metadata": {},
   "outputs": [],
   "source": [
    "df1.to_csv('sample_dh.csv')"
   ]
  },
  {
   "cell_type": "code",
   "execution_count": 40,
   "metadata": {},
   "outputs": [],
   "source": [
    "driver.close()"
   ]
  },
  {
   "cell_type": "code",
   "execution_count": null,
   "metadata": {},
   "outputs": [],
   "source": []
  }
 ],
 "metadata": {
  "kernelspec": {
   "display_name": "Python 3",
   "language": "python",
   "name": "python3"
  },
  "language_info": {
   "codemirror_mode": {
    "name": "ipython",
    "version": 3
   },
   "file_extension": ".py",
   "mimetype": "text/x-python",
   "name": "python",
   "nbconvert_exporter": "python",
   "pygments_lexer": "ipython3",
   "version": "3.7.6"
  }
 },
 "nbformat": 4,
 "nbformat_minor": 4
}
